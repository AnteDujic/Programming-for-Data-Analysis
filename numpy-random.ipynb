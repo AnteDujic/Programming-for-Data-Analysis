{
 "cells": [
  {
   "cell_type": "markdown",
   "id": "543afed0-88f5-4cc9-8075-70d8bab410d4",
   "metadata": {},
   "source": [
    "# AN OVERVIEW OF THE NUMPY.RANDOM PACKAGE IN PYTHON\n",
    "\n",
    "***"
   ]
  },
  {
   "cell_type": "markdown",
   "id": "a7f93ed3-5871-43e4-90ba-87ecfaa45e8b",
   "metadata": {},
   "source": [
    "## INTRODUCTION\n",
    "\n",
    "This notebook contains a detail overview of the *numpy.random* package in python. It will be explained how to use of the package, but will also include detailed explanations of some of the distributions provided for in the package."
   ]
  },
  {
   "cell_type": "markdown",
   "id": "8099b628-44d6-4249-a7d4-e8f8be00abed",
   "metadata": {},
   "source": [
    "## NUMPY\n",
    "\n",
    "NumPy stands for Numerical Python and it is a core scientific computing library in Python. [1]. It is a provision for huge, multi-dimensional arrays and matrices, alongside an extra-large collection of high-level mathematical functions to work on these arrays.[2] It was created in 2005 by Travis Oliphant. It is an open source project, and the source code for NumPy is located at this github repository https://github.com/numpy/numpy. [3] "
   ]
  },
  {
   "cell_type": "markdown",
   "id": "bd491318-260e-4c76-9814-3539779132dd",
   "metadata": {},
   "source": [
    "### INSTALLATION\n",
    "\n",
    "There are multiple ways to have *NumPy* library installed on your system, but the easiest way is to use a python distribution that already has NumPy installed - e.g. Anaconda. (https://docs.anaconda.com/anaconda/install/index.html)"
   ]
  },
  {
   "cell_type": "markdown",
   "id": "8ada16f1-ff30-4321-913b-e14c3d51baa8",
   "metadata": {},
   "source": [
    "### IMPORT\n",
    "\n",
    "Numpy library is imported same as any other python library, using *import* command at the start of the program. Numpy is usually imported using *np* alias, which is used later in the program when reffering to the package."
   ]
  },
  {
   "cell_type": "code",
   "execution_count": 1,
   "id": "fac3f86f-e63f-477b-8a04-4a1e7b5e1266",
   "metadata": {},
   "outputs": [],
   "source": [
    "import numpy as np"
   ]
  },
  {
   "cell_type": "markdown",
   "id": "c9ac7993-3d99-4ba0-8f9a-f7ebeca22084",
   "metadata": {},
   "source": [
    "## NUMPY.RANDOM\n",
    "\n",
    "The *random* is a module present in the NumPy library. This module contains the functions which are used for generating random numbers. [4] Random number does not mean a different number every time. Random means something that can not be predicted logically. [6] *Random* module is based on pseudo-random number generation that means it is a mathematical way that generates a sequence of nearly random numbers. It is a combination of a bit generator and a generator. In Python, the random values are produced by the generator and originate in a Bit generator.[5]\n",
    "\n",
    "```\n",
    "numpy.random.default_rng()\n",
    "```\n",
    "Construct a new Generator with the default BitGenerator"
   ]
  },
  {
   "cell_type": "markdown",
   "id": "27270ac7-5a3b-4ef3-ab96-95eb68087e12",
   "metadata": {},
   "source": [
    "### SIMPLE RANDOM DATA\n",
    "\n",
    "- [**integers**](https://numpy.org/doc/stable/reference/random/generated/numpy.random.Generator.integers.html#numpy.random.Generator.integers) (low[, high, size, dtype, endpoint]) \n",
    "*Return random integers from low (inclusive) to high (exclusive), or if endpoint=True, low (inclusive) to high (inclusive).*\n"
   ]
  },
  {
   "cell_type": "code",
   "execution_count": 21,
   "id": "2fa1c3c8-736b-4aba-8dff-f649aff984e3",
   "metadata": {},
   "outputs": [],
   "source": [
    "rng = np.random.default_rng()"
   ]
  },
  {
   "cell_type": "code",
   "execution_count": 3,
   "id": "c015cfa2-7583-4e9b-9676-c1b89a80bb16",
   "metadata": {},
   "outputs": [
    {
     "data": {
      "text/plain": [
       "array([[10,  6,  6,  5,  9,  9,  9,  5,  9,  5],\n",
       "       [ 5,  6,  9, 10,  7,  8, 10,  5,  8,  7]], dtype=int64)"
      ]
     },
     "execution_count": 3,
     "metadata": {},
     "output_type": "execute_result"
    }
   ],
   "source": [
    "rng.integers(5, 10, size= (2, 10) , endpoint = True)"
   ]
  },
  {
   "cell_type": "code",
   "execution_count": null,
   "id": "90e19e82-a4dc-448d-9661-7459298c898d",
   "metadata": {},
   "outputs": [],
   "source": []
  },
  {
   "cell_type": "code",
   "execution_count": null,
   "id": "0775f9eb-aebf-4718-af8d-1f2488ede81e",
   "metadata": {},
   "outputs": [],
   "source": []
  },
  {
   "cell_type": "code",
   "execution_count": null,
   "id": "9946c4ca-c777-4944-a24c-fb221ce69643",
   "metadata": {},
   "outputs": [],
   "source": []
  },
  {
   "cell_type": "markdown",
   "id": "d63d60a8-4aa2-47f1-aac1-2f9d95ae5fb9",
   "metadata": {},
   "source": [
    "- [**random**](https://numpy.org/doc/stable/reference/random/generated/numpy.random.Generator.random.html#numpy.random.Generator.random)([size, dtype, out])\n",
    "*Return random floats in the half-open interval [0.0, 1.0).*"
   ]
  },
  {
   "cell_type": "code",
   "execution_count": 8,
   "id": "6f395077-0149-425f-821d-8af8ca8c2963",
   "metadata": {},
   "outputs": [
    {
     "data": {
      "text/plain": [
       "array([0.09235266, 0.92908964, 0.3826136 , 0.81022262, 0.41133858])"
      ]
     },
     "execution_count": 8,
     "metadata": {},
     "output_type": "execute_result"
    }
   ],
   "source": [
    "rng.random(5)"
   ]
  },
  {
   "cell_type": "markdown",
   "id": "5ddd696b-d45c-491d-bd18-8d2bacbd014e",
   "metadata": {},
   "source": [
    "- (b - a) * random() + a     \n",
    "Random number between a and b"
   ]
  },
  {
   "cell_type": "code",
   "execution_count": 20,
   "id": "bb759513-7da8-46c8-a6dd-e8e3b52b0fb8",
   "metadata": {},
   "outputs": [
    {
     "data": {
      "text/plain": [
       "5.805269109050045"
      ]
     },
     "execution_count": 20,
     "metadata": {},
     "output_type": "execute_result"
    }
   ],
   "source": [
    "(10-5)* rng.random() + 5"
   ]
  },
  {
   "cell_type": "code",
   "execution_count": null,
   "id": "de6a4879-75cc-4d81-be3f-8691c77553f4",
   "metadata": {},
   "outputs": [],
   "source": []
  },
  {
   "cell_type": "code",
   "execution_count": null,
   "id": "1658180a-fa4b-49a2-9195-e6f8556ae04a",
   "metadata": {},
   "outputs": [],
   "source": []
  },
  {
   "cell_type": "markdown",
   "id": "9b01b1cc-b05f-463a-b738-442e754c7aee",
   "metadata": {},
   "source": [
    "- [**choice**](https://numpy.org/doc/stable/reference/random/generated/numpy.random.Generator.choice.html#numpy.random.Generator.choice) (a[, size, replace, p, axis, shuffle])\n",
    "\n",
    "*Generates a random sample from a given array*"
   ]
  },
  {
   "cell_type": "code",
   "execution_count": 27,
   "id": "4e7fa3fa-42b1-495d-9595-044810dbf87f",
   "metadata": {},
   "outputs": [
    {
     "data": {
      "text/plain": [
       "array([0, 3, 3], dtype=int64)"
      ]
     },
     "execution_count": 27,
     "metadata": {},
     "output_type": "execute_result"
    }
   ],
   "source": [
    "rng.choice(5, 3)"
   ]
  },
  {
   "cell_type": "code",
   "execution_count": null,
   "id": "544124b1-3826-4e92-8001-8fee3dc6cb41",
   "metadata": {},
   "outputs": [],
   "source": []
  },
  {
   "cell_type": "code",
   "execution_count": null,
   "id": "2352fdd2-7ad1-42f5-9c3e-2c7952980fb2",
   "metadata": {},
   "outputs": [],
   "source": []
  },
  {
   "cell_type": "code",
   "execution_count": null,
   "id": "c1c55a36-964b-4271-b648-fce61a8d51d4",
   "metadata": {},
   "outputs": [],
   "source": []
  },
  {
   "cell_type": "markdown",
   "id": "fdc71663-aeb7-4540-b95f-d6a19b0bb52c",
   "metadata": {},
   "source": [
    "- [**bytes**](https://numpy.org/doc/stable/reference/random/generated/numpy.random.Generator.bytes.html#numpy.random.Generator.bytes) (length)\n",
    "\n",
    "*Return random bytes.*"
   ]
  },
  {
   "cell_type": "code",
   "execution_count": 26,
   "id": "ececbe17-1b64-4ad3-97ea-78aad9fdc974",
   "metadata": {},
   "outputs": [
    {
     "data": {
      "text/plain": [
       "b'\\xf8\\x87Q\\xb4.\\xfb\\x16\\xabF\\xd8'"
      ]
     },
     "execution_count": 26,
     "metadata": {},
     "output_type": "execute_result"
    }
   ],
   "source": [
    "rng.bytes(10)"
   ]
  },
  {
   "cell_type": "code",
   "execution_count": null,
   "id": "dd63d6b1-1bf0-4f03-8f8e-f85a3adbab5e",
   "metadata": {},
   "outputs": [],
   "source": []
  },
  {
   "cell_type": "code",
   "execution_count": null,
   "id": "78d0f746-11f2-4c51-bf18-7382d83ed983",
   "metadata": {},
   "outputs": [],
   "source": []
  },
  {
   "cell_type": "code",
   "execution_count": null,
   "id": "95457af3-d6f9-4aac-b482-c994a1552bb2",
   "metadata": {},
   "outputs": [],
   "source": []
  },
  {
   "cell_type": "markdown",
   "id": "1447a836-7e15-4799-be48-b8cd8dcdd4e6",
   "metadata": {},
   "source": [
    "### PERMUTATIONS"
   ]
  },
  {
   "cell_type": "markdown",
   "id": "40072e1e-d2fc-4935-b2ec-02edd3346426",
   "metadata": {},
   "source": [
    "### DISTRIBUTIONS"
   ]
  },
  {
   "cell_type": "markdown",
   "id": "68cf1977-24a8-4793-bf20-ab7d029a9336",
   "metadata": {},
   "source": [
    "#### Distribution 1 "
   ]
  },
  {
   "cell_type": "markdown",
   "id": "ba9990d1-48a8-4c3c-b0cd-f8033491565b",
   "metadata": {},
   "source": [
    "#### Distribution 2"
   ]
  },
  {
   "cell_type": "markdown",
   "id": "3f753175-aef1-4fec-9471-a4c4669d9400",
   "metadata": {},
   "source": [
    "#### Distribution 3"
   ]
  },
  {
   "cell_type": "markdown",
   "id": "eef08e83-39e3-42c0-b5ce-2f2c423b286a",
   "metadata": {},
   "source": [
    "#### Distribution 4"
   ]
  },
  {
   "cell_type": "markdown",
   "id": "479f91a6-12b5-430b-b869-9d4bfd266095",
   "metadata": {},
   "source": [
    "#### Distribution 5"
   ]
  },
  {
   "cell_type": "markdown",
   "id": "d2b61b08-040e-4028-9ec5-86b81c3839b4",
   "metadata": {},
   "source": [
    "### SEEDS"
   ]
  },
  {
   "cell_type": "markdown",
   "id": "ac2df7a6-b246-466c-90a1-1601aee69539",
   "metadata": {},
   "source": [
    "## CONCLUSION\n",
    "***"
   ]
  },
  {
   "cell_type": "markdown",
   "id": "1cde162b-8cf2-4e00-a8db-361083332a03",
   "metadata": {},
   "source": [
    "## REFERENCES\n",
    "\n",
    "- [1] https://towardsdatascience.com/getting-started-with-numpy-59b22df56729\n",
    "- [2] https://python.plainenglish.io/what-are-basics-of-numpy-2afa9a9455cb\n",
    "- [3] https://www.w3schools.com/python/numpy/numpy_intro.asp\n",
    "- [4] https://www.javatpoint.com/numpy-random\n",
    "- [5] https://pythonguides.com/python-numpy-random/\n",
    "- [6] https://www.w3schools.com/python/numpy/numpy_random.asp"
   ]
  },
  {
   "cell_type": "markdown",
   "id": "af22aa3e-8690-41e9-ac5c-338967ac757e",
   "metadata": {},
   "source": [
    "## Links to check"
   ]
  },
  {
   "cell_type": "markdown",
   "id": "c0c38716-1e5c-4cf1-8528-cf4813b542af",
   "metadata": {},
   "source": [
    "- https://numpy.org/doc/stable/reference/random/index.html\n",
    "- https://www.w3schools.com/python/numpy/numpy_random.asp\n",
    "- https://www.geeksforgeeks.org/random-sampling-in-numpy-random-function/\n",
    "- https://www.javatpoint.com/numpy-random\n",
    "- https://pythonguides.com/python-numpy-random/\n",
    "- https://docs.scipy.org/doc/numpy-1.17.0/reference/random/generator.html"
   ]
  },
  {
   "cell_type": "code",
   "execution_count": null,
   "id": "5b4a1be7-a49b-4ad0-bbfa-d85f102d1ff5",
   "metadata": {},
   "outputs": [],
   "source": []
  }
 ],
 "metadata": {
  "kernelspec": {
   "display_name": "Python 3",
   "language": "python",
   "name": "python3"
  },
  "language_info": {
   "codemirror_mode": {
    "name": "ipython",
    "version": 3
   },
   "file_extension": ".py",
   "mimetype": "text/x-python",
   "name": "python",
   "nbconvert_exporter": "python",
   "pygments_lexer": "ipython3",
   "version": "3.8.8"
  }
 },
 "nbformat": 4,
 "nbformat_minor": 5
}
