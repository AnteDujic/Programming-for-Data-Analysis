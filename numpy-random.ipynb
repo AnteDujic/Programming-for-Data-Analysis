{
 "cells": [
  {
   "cell_type": "markdown",
   "id": "543afed0-88f5-4cc9-8075-70d8bab410d4",
   "metadata": {},
   "source": [
    "# AN OVERVIEW OF THE NUMPY.RANDOM PACKAGE IN PYTHON\n",
    "\n",
    "<hr style=\"border:2px solid black\"> </hr>"
   ]
  },
  {
   "cell_type": "markdown",
   "id": "a7f93ed3-5871-43e4-90ba-87ecfaa45e8b",
   "metadata": {},
   "source": [
    "## INTRODUCTION\n",
    "<hr style=\"border:2px solid gray\"> </hr>\n",
    "\n",
    "This notebook contains a detail overview of the *numpy.random* package in python. It is explained how to use the package, but it also includes a detailed explanations of simple random data, permutations and some of the distributions provided for in the package. The aim of this notebook is to simplify the mentioned module explanation given on the [Official NumPy Manual website](https://numpy.org/doc/stable/reference/random/index.html).\n",
    "\n",
    "### CONTENTS\n",
    "***\n",
    "- [NUMPY](#NUMPY)\n",
    "    - [INSTALLATION](#INSTALLATION)\n",
    "    - [IMPORT](#IMPORT)\n",
    "- [NUMPY.RANDOM](#NUMPY.RANDOM)\n",
    "    - [SIMPLE RANDOM DATA](#SIMPLE_RANDOM_DATA)\n",
    "        - [integers](#integers)\n",
    "        - [random](#random)\n",
    "        - [choice](#choice)\n",
    "        - [bytes](#bytes)\n",
    "    - [PERMUTATIONS](#PERMUTATIONS)\n",
    "        - [shuffle](#shuffle)\n",
    "        - [permutation](#permutation)\n",
    "        - [permuted](#permuted)\n",
    "    - [DISTRIBUTIONS](#DISTRIBUTIONS)\n",
    "        - [uniform](#uniform)\n",
    "        - [normal](#normal)\n",
    "        - [binomal](#binomal)\n",
    "        - [hypergeometric](#hypergeometric)\n",
    "        - [poisson](#poisson)\n",
    "    - [SEEDS](#SEEDS)\n",
    "- [CONCLUSION](#CONCLUSION)\n",
    "- [REFERENCES](#REFERENCES)\n"
   ]
  },
  {
   "cell_type": "markdown",
   "id": "8099b628-44d6-4249-a7d4-e8f8be00abed",
   "metadata": {},
   "source": [
    "## NUMPY\n",
    "<hr style=\"border:2px solid gray\"> </hr>\n",
    "\n",
    "NumPy stands for Numerical Python and it is a core scientific computing library in Python. [1]. It is a provision for huge, multi-dimensional arrays and matrices, alongside an extra-large collection of high-level mathematical functions to work on these arrays.[2] It was created in 2005 by Travis Oliphant. It is an open source project, and the source code for NumPy is located at this github repository https://github.com/numpy/numpy. [3] "
   ]
  },
  {
   "cell_type": "markdown",
   "id": "bd491318-260e-4c76-9814-3539779132dd",
   "metadata": {},
   "source": [
    "### INSTALLATION\n",
    "***\n",
    "There are multiple ways to have *NumPy* library installed on your system, but the easiest way is to use a python distribution that already has NumPy installed - e.g. Anaconda. (https://docs.anaconda.com/anaconda/install/index.html)"
   ]
  },
  {
   "cell_type": "markdown",
   "id": "8ada16f1-ff30-4321-913b-e14c3d51baa8",
   "metadata": {},
   "source": [
    "### IMPORT\n",
    "***\n",
    "Numpy library is imported same as any other python library, using *import* command at the start of the program. Numpy is usually imported using *np* alias, which is used later in the program when reffering to the package."
   ]
  },
  {
   "cell_type": "code",
   "execution_count": 1,
   "id": "fac3f86f-e63f-477b-8a04-4a1e7b5e1266",
   "metadata": {},
   "outputs": [],
   "source": [
    "import numpy as np"
   ]
  },
  {
   "cell_type": "markdown",
   "id": "c9ac7993-3d99-4ba0-8f9a-f7ebeca22084",
   "metadata": {},
   "source": [
    "## NUMPY.RANDOM\n",
    "<hr style=\"border:2px solid gray\"> </hr>\n",
    "\n",
    "The *random* is a module present in the NumPy library. This module contains the functions which are used for generating random numbers. [4] Random number does not mean a different number every time. Random means something that can not be predicted logically. [6] *Random* module is based on pseudo-random number generation that means it is a mathematical way that generates a sequence of nearly random numbers. It is a combination of a bit generator and a generator. In Python, the random values are produced by the generator and originate in a Bit generator.[5]\n",
    "\n",
    "```\n",
    "numpy.random.default_rng()\n",
    "```\n",
    "Construct a new Generator with the default BitGenerator"
   ]
  },
  {
   "cell_type": "code",
   "execution_count": 2,
   "id": "b6f501a6-6cd8-4f04-90f9-816787cb52e7",
   "metadata": {},
   "outputs": [],
   "source": [
    "import matplotlib.pyplot as plt"
   ]
  },
  {
   "cell_type": "code",
   "execution_count": 3,
   "id": "2fa1c3c8-736b-4aba-8dff-f649aff984e3",
   "metadata": {},
   "outputs": [],
   "source": [
    "rng = np.random.default_rng()"
   ]
  },
  {
   "cell_type": "markdown",
   "id": "3cdcea37-84e6-4bfb-b817-a961f459b812",
   "metadata": {},
   "source": [
    "### SIMPLE RANDOM DATA <a id='SIMPLE_RANDOM_DATA'></a>\n",
    "\n",
    "Intro\n",
    "***"
   ]
  },
  {
   "cell_type": "markdown",
   "id": "27270ac7-5a3b-4ef3-ab96-95eb68087e12",
   "metadata": {},
   "source": [
    "#### [**integers**](https://numpy.org/doc/stable/reference/random/generated/numpy.random.Generator.integers.html#numpy.random.Generator.integers) (low, high=None, size=None, dtype=np.int64, endpoint=False) <a id='integers'></a>\n",
    "\n",
    "Returns random integers in the specified range. ***low*** refers to the start of the range and it's inclusive. ***high*** is the end of the range and is by the default exclusive (end of range = *high* - 1). To inlcude *high* in the range, ***endpoint*** (*False* by default) has to be set up as *True*. If *high* is not specified then *low* is used as the end of the range. ***size*** defines the shape of the output and it can be one or multi-dimensional. ***dtype*** defines the dtype of the output, and it is *np.int64* by default. *Integers* returns radnom integers in \"discrete uniform\" distribution. A discrete uniform distribution is a statistical distribution where the probability of outcomes is equally likely and with finite values. [7]\n",
    "\n",
    "<br>\n",
    "\n",
    "Image 1. Array shape\n",
    "<center><img src=\"https://i.stack.imgur.com/NWTQH.png\" width=\"500\"/></center>"
   ]
  },
  {
   "cell_type": "markdown",
   "id": "b593f256-9659-41e7-89f9-133d3be643a8",
   "metadata": {},
   "source": [
    "##### EXAMPLES:\n",
    "***"
   ]
  },
  {
   "cell_type": "markdown",
   "id": "4b598fe3-b6a6-4e47-8f53-19c8ba8234b8",
   "metadata": {},
   "source": [
    "UNIFORM DISTRIBUTION OF RANDOM INTEGERS 10 - 1000000 (exclusive)"
   ]
  },
  {
   "cell_type": "code",
   "execution_count": 4,
   "id": "c015cfa2-7583-4e9b-9676-c1b89a80bb16",
   "metadata": {},
   "outputs": [
    {
     "name": "stdout",
     "output_type": "stream",
     "text": [
      "Integers: [76 87 57 ... 13 30 24] \n",
      "\n"
     ]
    },
    {
     "data": {
      "image/png": "[encoded data removed]",
      "text/plain": [
       "<Figure size 432x288 with 1 Axes>"
      ]
     },
     "metadata": {
      "needs_background": "light"
     },
     "output_type": "display_data"
    }
   ],
   "source": [
    "x_int = (rng.integers(10, 100, size=1000000))\n",
    "print (\"Integers:\", x_int, \"\\n\")\n",
    "plt.title(\"UNIFORM DISTRIBUTION OF RANDOM INTEGERS\")\n",
    "plt.xlabel(\"Integers\")\n",
    "plt.ylabel(\"Quantity\")\n",
    "plt.hist(x_int)\n",
    "plt.show()"
   ]
  },
  {
   "cell_type": "markdown",
   "id": "a080eae6-c98c-4300-b365-a7bb3d9a96be",
   "metadata": {},
   "source": [
    "***"
   ]
  },
  {
   "cell_type": "markdown",
   "id": "f9644688-bd2b-4cca-a865-01deccbb38ff",
   "metadata": {},
   "source": [
    "RANDOM INTEGERS 0 - 5 (exlusive)"
   ]
  },
  {
   "cell_type": "code",
   "execution_count": 5,
   "id": "3d26e1f7-77c0-4109-8a4b-6e521eb28b23",
   "metadata": {},
   "outputs": [
    {
     "name": "stdout",
     "output_type": "stream",
     "text": [
      "Integers: [2 4 4 0 4 1 0 2 1 1] \n",
      "\n"
     ]
    },
    {
     "data": {
      "image/png": "[encoded data removed]",
      "text/plain": [
       "<Figure size 432x288 with 1 Axes>"
      ]
     },
     "metadata": {
      "needs_background": "light"
     },
     "output_type": "display_data"
    }
   ],
   "source": [
    "x1_int = (rng.integers(5, size=10))\n",
    "print (\"Integers:\", x1_int, \"\\n\")\n",
    "plt.title(\"RANDOM INTEGERS\")\n",
    "plt.xlabel(\"Integers\")\n",
    "plt.ylabel(\"Quantity\")\n",
    "plt.plot (x1_int, \"bo\")\n",
    "plt.show()"
   ]
  },
  {
   "cell_type": "markdown",
   "id": "cf07e100-63f0-4c8d-a932-6100d10f060b",
   "metadata": {},
   "source": [
    "***"
   ]
  },
  {
   "cell_type": "markdown",
   "id": "4f430489-1413-4545-874b-65a6036c186d",
   "metadata": {},
   "source": [
    "RANDOM INTEGERS 0 TO 5 (inclusive)"
   ]
  },
  {
   "cell_type": "code",
   "execution_count": 6,
   "id": "f7d3bf87-e479-40e8-aecc-7f127c940188",
   "metadata": {},
   "outputs": [
    {
     "name": "stdout",
     "output_type": "stream",
     "text": [
      "Integers: [4 2 0 4 1 1 1 0 1 2 0 1 0 3 1 1 4 0 2 5 3 5 4 4 1 4 0 5 0 1 4 4 5 1 0 4 3\n",
      " 5 0 0 1 2 1 2 5 0 5 5 4 5] \n",
      "\n"
     ]
    },
    {
     "data": {
      "image/png": "[encoded data removed]",
      "text/plain": [
       "<Figure size 432x288 with 1 Axes>"
      ]
     },
     "metadata": {
      "needs_background": "light"
     },
     "output_type": "display_data"
    }
   ],
   "source": [
    "x2_int = (rng.integers(5, size=50, endpoint = True))\n",
    "print(\"Integers:\", x2_int, \"\\n\")\n",
    "plt.title(\"RANDOM INTEGERS\")\n",
    "plt.xlabel(\"Integers\")\n",
    "plt.ylabel(\"Quantity\")\n",
    "plt.plot (x2_int, \"bo\")\n",
    "plt.show()"
   ]
  },
  {
   "cell_type": "markdown",
   "id": "3d9d3e42-77f5-4e2f-98d3-d09aba271192",
   "metadata": {},
   "source": [
    "***"
   ]
  },
  {
   "cell_type": "markdown",
   "id": "3a785cc5-2e46-49b2-9a3f-d84b4efa1a4e",
   "metadata": {},
   "source": [
    "RANDOM INTEGERS 0 - 5 (exclusive) - 2D ARRAY"
   ]
  },
  {
   "cell_type": "code",
   "execution_count": 7,
   "id": "22552abf-986f-4c01-9c3e-8dfd24a942ad",
   "metadata": {},
   "outputs": [
    {
     "name": "stdout",
     "output_type": "stream",
     "text": [
      "2D Array:\n",
      " [[0 2 4 0 4 3 0 2 4 4]\n",
      " [3 1 2 3 4 4 2 2 2 1]\n",
      " [2 0 3 0 2 2 4 2 2 2]\n",
      " [3 1 3 3 3 0 3 0 4 3]\n",
      " [2 3 2 0 1 0 4 1 1 0]\n",
      " [0 3 4 0 3 2 0 0 4 2]\n",
      " [2 2 4 2 2 4 2 0 4 3]\n",
      " [1 0 2 0 2 0 3 4 1 4]\n",
      " [3 4 3 3 0 4 1 2 3 4]\n",
      " [2 2 3 2 0 2 3 1 1 3]] \n",
      "\n"
     ]
    },
    {
     "data": {
      "image/png": "[encoded data removed]",
      "text/plain": [
       "<Figure size 432x288 with 2 Axes>"
      ]
     },
     "metadata": {
      "needs_background": "light"
     },
     "output_type": "display_data"
    }
   ],
   "source": [
    "x3_int = (rng.integers(5, size=(10, 10)))\n",
    "print (\"2D Array:\\n\", x3_int, \"\\n\")\n",
    "plt.title(\"IMAGE OF A RANDOM 2D ARRAY\\n(visual represantation)\")\n",
    "plt.xlabel(\"Axis 1 - Column\")\n",
    "plt.ylabel(\"Axis 0 - Row\")\n",
    "plt.imshow (x3_int)\n",
    "color_map = plt.imshow(x3_int)\n",
    "color_map.set_cmap(\"Blues_r\")\n",
    "plt.colorbar()\n",
    "plt.show()"
   ]
  },
  {
   "cell_type": "markdown",
   "id": "3a32debd-4ab8-460b-803f-5138de36ce3a",
   "metadata": {},
   "source": [
    "***"
   ]
  },
  {
   "cell_type": "markdown",
   "id": "4107bf03-4acf-4f88-9124-a968adecc269",
   "metadata": {},
   "source": [
    "RANDOM INTEGERS 0 - 10 (exclusive) - 3D ARRAY"
   ]
  },
  {
   "cell_type": "code",
   "execution_count": 8,
   "id": "08f392f9-e2cb-4c3c-980d-f7cac5258b68",
   "metadata": {},
   "outputs": [
    {
     "name": "stdout",
     "output_type": "stream",
     "text": [
      "3D Array:\n",
      "x =\n",
      " [[1 5 7 5 7]\n",
      " [8 7 1 9 5]\n",
      " [8 1 9 2 9]\n",
      " [0 8 9 5 9]\n",
      " [4 4 3 0 7]]\n",
      "y =\n",
      " [[6 0 4 3 6]\n",
      " [9 7 4 5 1]\n",
      " [0 5 3 7 4]\n",
      " [9 5 4 8 8]\n",
      " [6 0 3 2 0]]\n",
      "z =\n",
      " [[7 4 3 9 5]\n",
      " [6 8 3 5 0]\n",
      " [7 5 6 1 7]\n",
      " [5 9 0 1 2]\n",
      " [9 9 8 1 0]]\n"
     ]
    },
    {
     "data": {
      "image/png": "[encoded data removed]",
      "text/plain": [
       "<Figure size 432x288 with 1 Axes>"
      ]
     },
     "metadata": {
      "needs_background": "light"
     },
     "output_type": "display_data"
    }
   ],
   "source": [
    "#%matplotlib widget\n",
    "# %matplotlib inline\n",
    "\n",
    "x4_int, y4_int, z4_int = (rng.integers(10, size=(3,5,5)))\n",
    "print (\"3D Array:\")\n",
    "print (\"x =\\n\", x4_int)\n",
    "print (\"y =\\n\", y4_int)\n",
    "print (\"z =\\n\", z4_int)\n",
    "\n",
    "fig = plt.figure()\n",
    "ax = fig.add_subplot(projection='3d')\n",
    "plt.title(\"RANDOM 3d ARRAY\\n(Interactive 3d Plot)\")\n",
    "ax.set_xlabel('x')\n",
    "ax.set_ylabel('y')\n",
    "ax.set_zlabel('z')\n",
    "ax.scatter (x4_int, y4_int, z4_int, c= 'blue')\n",
    "plt.show()\n",
    "\n",
    "# %matplotlib qt"
   ]
  },
  {
   "cell_type": "markdown",
   "id": "c5edef7d-b1a6-442b-a5ae-88f21380bb68",
   "metadata": {},
   "source": [
    "***"
   ]
  },
  {
   "cell_type": "markdown",
   "id": "fefcb6af-2938-4397-9823-1d8d8af39600",
   "metadata": {},
   "source": [
    "ARRAY WITH THREE DIFFERENT *high* VALUES"
   ]
  },
  {
   "cell_type": "code",
   "execution_count": 9,
   "id": "8734aec3-9c84-4daf-b38a-bdede458bd7a",
   "metadata": {},
   "outputs": [
    {
     "data": {
      "text/plain": [
       "array([ 9,  7, 73], dtype=int64)"
      ]
     },
     "execution_count": 9,
     "metadata": {},
     "output_type": "execute_result"
    }
   ],
   "source": [
    "rng.integers(1, [10, 50, 100])"
   ]
  },
  {
   "cell_type": "markdown",
   "id": "641e07ab-5a1b-46c7-965c-7a257362b4b2",
   "metadata": {},
   "source": [
    "***"
   ]
  },
  {
   "cell_type": "markdown",
   "id": "5d845dae-742e-4c1c-bed9-0c749c9ffab4",
   "metadata": {},
   "source": [
    "ARRAY WITH THREE DIFFERENT *low* VALUES"
   ]
  },
  {
   "cell_type": "code",
   "execution_count": 10,
   "id": "115264ac-2e2e-4387-a9b2-a4f3b930da69",
   "metadata": {},
   "outputs": [
    {
     "data": {
      "text/plain": [
       "array([15, 93, 90], dtype=int64)"
      ]
     },
     "execution_count": 10,
     "metadata": {},
     "output_type": "execute_result"
    }
   ],
   "source": [
    "rng.integers([1, 50, 90], 100)"
   ]
  },
  {
   "cell_type": "markdown",
   "id": "1c7f68ae-a070-43f6-880f-3ea6b29ed67e",
   "metadata": {},
   "source": [
    "***"
   ]
  },
  {
   "cell_type": "markdown",
   "id": "d63d60a8-4aa2-47f1-aac1-2f9d95ae5fb9",
   "metadata": {},
   "source": [
    "#### [**random**](https://numpy.org/doc/stable/reference/random/generated/numpy.random.Generator.random.html#numpy.random.Generator.random)(size=None, dtype=np.float64, out=None) <a id='random'></a>\n",
    "\n",
    "Returns random floats in the interval higher or equal to 0.0 and less then 1.0. This interval is called half-open interval, where one of the endpoints are inclusive. ***size*** defines the output shape, which, if not specified, is none - single value is returned. ***dtype*** defines the dtype of the output and is *np.float64* by the default. Only *float64* and *float32* are supported. ***out*** ??\n",
    "*return* module can also be used for custom half-open intervals, e.g. if we want the output of a radnom float between a and b, we can do the following:\n",
    "> (b - a) * random() + a\n",
    "\n",
    "The outputs are from the “continuous uniform” distribution. A continuous uniform distribution (also referred to as rectangular distribution) is a statistical distribution with an infinite number of equally likely measurable values.[7]"
   ]
  },
  {
   "cell_type": "markdown",
   "id": "de583c2b-9e3a-4a8a-82a9-ca5de1a75a1f",
   "metadata": {},
   "source": [
    "##### EXAMPLES:\n",
    "***"
   ]
  },
  {
   "cell_type": "markdown",
   "id": "4f267cbd-7d8b-4771-9c8b-7366c162d632",
   "metadata": {},
   "source": [
    "UNIFORM DISTRIBUTION OF RANDOM INTEGERS FLOATS IN HALF OPEN INTERVAL (0,1]"
   ]
  },
  {
   "cell_type": "code",
   "execution_count": 11,
   "id": "6f395077-0149-425f-821d-8af8ca8c2963",
   "metadata": {},
   "outputs": [
    {
     "name": "stdout",
     "output_type": "stream",
     "text": [
      "Floats: [0.06070846 0.96057521 0.1075377  ... 0.32788432 0.39207752 0.00386008] \n",
      "\n"
     ]
    },
    {
     "data": {
      "image/png": "[encoded data removed]",
      "text/plain": [
       "<Figure size 432x288 with 1 Axes>"
      ]
     },
     "metadata": {
      "needs_background": "light"
     },
     "output_type": "display_data"
    }
   ],
   "source": [
    "x_rand = (rng.random(1000000))\n",
    "print (\"Floats:\", x_rand, \"\\n\")\n",
    "\n",
    "plt.title(\"UNIFORM DISTRIBUTION OF RANDOM FLOATS\")\n",
    "plt.xlabel(\"Floats\")\n",
    "plt.ylabel(\"Quantity\")\n",
    "plt.hist(x_rand)\n",
    "plt.show()"
   ]
  },
  {
   "cell_type": "markdown",
   "id": "fb6d0892-c70a-4676-b72f-f2420850bbf8",
   "metadata": {},
   "source": [
    "***"
   ]
  },
  {
   "cell_type": "code",
   "execution_count": 12,
   "id": "42d295ee-059c-4992-a281-7e006862d9c9",
   "metadata": {},
   "outputs": [
    {
     "data": {
      "text/plain": [
       "0.1807643126068842"
      ]
     },
     "execution_count": 12,
     "metadata": {},
     "output_type": "execute_result"
    }
   ],
   "source": [
    "rng.random()"
   ]
  },
  {
   "cell_type": "markdown",
   "id": "b113bcec-2dd1-4ebd-8d08-d043ff5520a6",
   "metadata": {},
   "source": [
    "***"
   ]
  },
  {
   "cell_type": "markdown",
   "id": "dfa9fef0-7a11-4280-836f-187163000c4f",
   "metadata": {},
   "source": [
    "RANDOM FLOATS (0, 1]"
   ]
  },
  {
   "cell_type": "code",
   "execution_count": 13,
   "id": "31015d52-ccac-4383-98c4-d468f546a103",
   "metadata": {},
   "outputs": [
    {
     "name": "stdout",
     "output_type": "stream",
     "text": [
      "2D Array:\n",
      " [[0.49188959 0.18747236 0.93240767 0.94114673 0.20343126]\n",
      " [0.02746334 0.97285689 0.25476132 0.17130161 0.25447579]\n",
      " [0.37182603 0.9052664  0.8974122  0.04031444 0.49282293]\n",
      " [0.87321622 0.43194957 0.60299979 0.46572453 0.23920287]\n",
      " [0.57224731 0.3771334  0.1124538  0.48626615 0.47037179]] \n",
      "\n"
     ]
    },
    {
     "data": {
      "image/png": "[encoded data removed]",
      "text/plain": [
       "<Figure size 432x288 with 2 Axes>"
      ]
     },
     "metadata": {
      "needs_background": "light"
     },
     "output_type": "display_data"
    }
   ],
   "source": [
    "x1_rand = rng.random([5, 5])\n",
    "print(\"2D Array:\\n\", x1_rand, \"\\n\")\n",
    "plt.imshow(x1_rand)\n",
    "plt.title(\"IMAGE OF A RANDOM 2D ARRAY\\n (0 - 1]\")\n",
    "plt.xlabel(\"Axis 1 - Column\")\n",
    "plt.ylabel(\"Axis 0 - Row\")\n",
    "color_map = plt.imshow(x1_rand)\n",
    "color_map.set_cmap(\"Blues_r\")\n",
    "plt.colorbar()\n",
    "plt.show()"
   ]
  },
  {
   "cell_type": "markdown",
   "id": "d83661ab-1a0f-4c63-8074-7466d1935e34",
   "metadata": {},
   "source": [
    "***"
   ]
  },
  {
   "cell_type": "markdown",
   "id": "4d2540d3-6ae3-4135-b55a-42fbe2870b55",
   "metadata": {},
   "source": [
    "RANDOM FLOATS (50 - 100]"
   ]
  },
  {
   "cell_type": "code",
   "execution_count": 14,
   "id": "e3d6cf3c-cfaa-4d15-a702-5964574360eb",
   "metadata": {},
   "outputs": [
    {
     "name": "stdout",
     "output_type": "stream",
     "text": [
      "2D Array:\n",
      " [[63.80204761 91.84102269 73.97156182 82.3139959  96.74384135]\n",
      " [73.84762136 76.97644787 69.50768609 57.36641762 87.35111058]\n",
      " [81.62798088 95.33206599 80.73444857 74.6027193  87.69898009]\n",
      " [60.24658398 66.24303989 90.18048334 80.87597553 78.4949497 ]\n",
      " [82.46048563 58.75416997 50.98027567 84.225986   59.22200258]] \n",
      "\n"
     ]
    },
    {
     "data": {
      "image/png": "[encoded data removed]",
      "text/plain": [
       "<Figure size 432x288 with 2 Axes>"
      ]
     },
     "metadata": {
      "needs_background": "light"
     },
     "output_type": "display_data"
    }
   ],
   "source": [
    "x2_rand = ((100-50) * rng.random((5, 5)) + 50)\n",
    "print(\"2D Array:\\n\", x2_rand,\"\\n\")\n",
    "plt.imshow(x2_rand)\n",
    "plt.title(\"IMAGE OF A RANDOM 2D ARRAY\\n(50 - 100]\")\n",
    "plt.xlabel(\"Axis 1 - Column\")\n",
    "plt.ylabel(\"Axis 0 - Row\")\n",
    "color_map = plt.imshow(x2_rand)\n",
    "color_map.set_cmap(\"Blues_r\")\n",
    "plt.colorbar()\n",
    "plt.show()"
   ]
  },
  {
   "cell_type": "markdown",
   "id": "ab164644-34cd-4b4a-bc81-5a88ae86c610",
   "metadata": {},
   "source": [
    "***"
   ]
  },
  {
   "cell_type": "markdown",
   "id": "998df0e9-06a7-4806-8703-672d7ecea379",
   "metadata": {},
   "source": [
    "ONE WITH out"
   ]
  },
  {
   "cell_type": "markdown",
   "id": "f0596920-24e8-4de3-b16d-54cc8677539a",
   "metadata": {},
   "source": [
    "***"
   ]
  },
  {
   "cell_type": "markdown",
   "id": "9b01b1cc-b05f-463a-b738-442e754c7aee",
   "metadata": {},
   "source": [
    "#### [**choice**](https://numpy.org/doc/stable/reference/random/generated/numpy.random.Generator.choice.html#numpy.random.Generator.choice) (a, size=None, replace=True, p=None, axis=0, shuffle=True) <a id='choice'></a>\n",
    "\n",
    "Generates a random sample from a given array. ***a*** sets the range from which the radnom sample gets generated. If *a* is an ndarray, the output is random selection of the elements of that array. If *a* is an integer, the output is random selection of a range from 0 - given integer (exclusive). ***size*** defines the shape of the output. It is *None* by default. If *a* has more than one dimension, the size shape will be inserted into the axis dimension. ***replace*** defines if the return will have repeated elements. It is *True* by default, meaning that a value of *a* can be selected multiple times. ***p*** is the probability of the entries in *a* to be selected. By default it is *None*, meaning the probibility is equal for all - uniform distribution. ***axis*** is axis along which the selection is performed, and is *0* by default. ***shuffle*** defines if the output is shuffled when sampling without replacement. Default is *True*.\n",
    "\n",
    "<br>\n",
    "\n",
    "Image 1. Axis\n",
    "<center><img src=\"https://i.stack.imgur.com/dcoE3.jpg\" width=\"500\"/></center>"
   ]
  },
  {
   "cell_type": "markdown",
   "id": "0e595083-53fb-48e0-a7e8-7228dc87e79b",
   "metadata": {},
   "source": [
    "##### EXAMPLES:\n",
    "***"
   ]
  },
  {
   "cell_type": "markdown",
   "id": "99ae2349-43f4-42e3-bacc-bccf00111331",
   "metadata": {},
   "source": [
    "UNIFORM DISTRIBUTION OF RANDOM INTEGERS CHOSEN IN RANGE (0 - 10]"
   ]
  },
  {
   "cell_type": "code",
   "execution_count": 15,
   "id": "2586a3bc-e578-4b9e-9125-3404acb2a7c1",
   "metadata": {},
   "outputs": [
    {
     "name": "stdout",
     "output_type": "stream",
     "text": [
      "Integers: [8 7 8 ... 2 8 0] \n",
      "\n"
     ]
    },
    {
     "data": {
      "image/png": "[encoded data removed]",
      "text/plain": [
       "<Figure size 432x288 with 1 Axes>"
      ]
     },
     "metadata": {
      "needs_background": "light"
     },
     "output_type": "display_data"
    }
   ],
   "source": [
    "x_ch = (rng.choice(10,1000000))\n",
    "print (\"Integers:\", x_ch, \"\\n\")\n",
    "\n",
    "plt.title(\"UNIFORM DISTRIBUTION OF RANDOMLY CHOSEN INTEGERS\\n (0 - 10]\")\n",
    "plt.xlabel(\"Integers\")\n",
    "plt.ylabel(\"Quantity\")\n",
    "plt.hist (x_ch)\n",
    "plt.show()"
   ]
  },
  {
   "cell_type": "markdown",
   "id": "190d07e9-4ed4-4bdf-acf1-817b61e34ddd",
   "metadata": {},
   "source": [
    "***"
   ]
  },
  {
   "cell_type": "markdown",
   "id": "3f054ef4-27c9-46d7-bbc8-a713e80bdacd",
   "metadata": {},
   "source": [
    "DISTRIBUTION OF RANDOM CHOSEN INTEGERS (1,3,5,7) WITH SET PROBABILITY"
   ]
  },
  {
   "cell_type": "code",
   "execution_count": 16,
   "id": "085dbdf7-058d-449c-b974-4a168c8f3a25",
   "metadata": {},
   "outputs": [
    {
     "name": "stdout",
     "output_type": "stream",
     "text": [
      "Integers: [3 5 7 ... 5 5 3] \n",
      "\n"
     ]
    },
    {
     "data": {
      "image/png": "[encoded data removed]",
      "text/plain": [
       "<Figure size 432x288 with 1 Axes>"
      ]
     },
     "metadata": {
      "needs_background": "light"
     },
     "output_type": "display_data"
    }
   ],
   "source": [
    "x1_ch = (rng.choice([1,3,5,7], 1000000, p=[0.1, 0.5, 0.25, 0.15]))\n",
    "print (\"Integers:\", x1_ch, \"\\n\")\n",
    "\n",
    "plt.title(\"UNIFORM DISTRIBUTION OF RANDOMLY CHOSEN INTEGERS\\n(1,3,5,7]\\nWITH SET PROBABILITY \")\n",
    "plt.xlabel(\"Integers\")\n",
    "plt.ylabel(\"Quantity\")\n",
    "plt.hist (x1_ch)\n",
    "plt.show()"
   ]
  },
  {
   "cell_type": "markdown",
   "id": "cd273822-7a8a-41b1-ab77-28f5ded7bb17",
   "metadata": {},
   "source": [
    "***"
   ]
  },
  {
   "cell_type": "code",
   "execution_count": 17,
   "id": "4dfcfeaf-36a7-47d1-bdc9-f6656221fa8b",
   "metadata": {},
   "outputs": [
    {
     "data": {
      "text/plain": [
       "57"
      ]
     },
     "execution_count": 17,
     "metadata": {},
     "output_type": "execute_result"
    }
   ],
   "source": [
    "rng.choice (100)"
   ]
  },
  {
   "cell_type": "markdown",
   "id": "b3fbdc2d-70ae-45fe-8fbe-97763346f724",
   "metadata": {},
   "source": [
    "***"
   ]
  },
  {
   "cell_type": "code",
   "execution_count": 18,
   "id": "4e7fa3fa-42b1-495d-9595-044810dbf87f",
   "metadata": {},
   "outputs": [
    {
     "name": "stdout",
     "output_type": "stream",
     "text": [
      "Integers: [9 8 9 0 0 1 7 8 9 2] \n",
      "\n"
     ]
    },
    {
     "data": {
      "image/png": "[encoded data removed]",
      "text/plain": [
       "<Figure size 432x288 with 1 Axes>"
      ]
     },
     "metadata": {
      "needs_background": "light"
     },
     "output_type": "display_data"
    }
   ],
   "source": [
    "x2_ch = (rng.choice(10, 10))\n",
    "print(\"Integers:\", x2_ch, \"\\n\")\n",
    "\n",
    "plt.title(\"DISTRIBUTION OF RANDOMLY CHOSEN INTEGERS (0 - 10]\\n WITH REPEATING ELEMENTS\")\n",
    "plt.xlabel(\"Integers\")\n",
    "plt.ylabel(\"Quantity\")\n",
    "plt.hist(x2_ch)\n",
    "plt.show()"
   ]
  },
  {
   "cell_type": "markdown",
   "id": "69dbd30d-6f73-45d6-a280-78a9b2dfa62a",
   "metadata": {},
   "source": [
    "***"
   ]
  },
  {
   "cell_type": "code",
   "execution_count": 19,
   "id": "ef0a1f8e-3a08-4a87-b85d-ac1b288df032",
   "metadata": {},
   "outputs": [
    {
     "name": "stdout",
     "output_type": "stream",
     "text": [
      "Integers: [0 2 4 9 5 3 1 7 6 8] \n",
      "\n"
     ]
    },
    {
     "data": {
      "image/png": "[encoded data removed]",
      "text/plain": [
       "<Figure size 432x288 with 1 Axes>"
      ]
     },
     "metadata": {
      "needs_background": "light"
     },
     "output_type": "display_data"
    }
   ],
   "source": [
    "x3_ch = (rng.choice(10,10, replace=False))\n",
    "print(\"Integers:\", x3_ch, \"\\n\")\n",
    "\n",
    "plt.title(\"DISTRIBUTION OF RANDOMLY CHOSEN INTEGERS (0 - 10]\\n WITH NONE REPEATING ELEMENTS\")\n",
    "plt.xlabel(\"Integers\")\n",
    "plt.ylabel(\"Quantity\")\n",
    "plt.hist(x3_ch)\n",
    "plt.show()"
   ]
  },
  {
   "cell_type": "markdown",
   "id": "9150c267-9b2a-44e6-b76c-7432227178f8",
   "metadata": {},
   "source": [
    "***"
   ]
  },
  {
   "cell_type": "code",
   "execution_count": 20,
   "id": "03001903-e4fa-42a0-b7a2-b3e50d87c2ca",
   "metadata": {
    "tags": []
   },
   "outputs": [
    {
     "data": {
      "text/plain": [
       "array([[3, 4, 5],\n",
       "       [6, 7, 8],\n",
       "       [6, 7, 8],\n",
       "       [0, 1, 2]])"
      ]
     },
     "execution_count": 20,
     "metadata": {},
     "output_type": "execute_result"
    }
   ],
   "source": [
    "rng.choice([[0, 1, 2], [3, 4, 5], [6, 7, 8]], 4, replace=True)"
   ]
  },
  {
   "cell_type": "markdown",
   "id": "f883c186-66ef-4134-b40d-a3f673bd4bbf",
   "metadata": {},
   "source": [
    "***"
   ]
  },
  {
   "cell_type": "code",
   "execution_count": 21,
   "id": "47292be4-14d3-42b8-8621-0f7321f6be77",
   "metadata": {},
   "outputs": [
    {
     "data": {
      "text/plain": [
       "array(['blue', 'red', 'black', 'red', 'red', 'red', 'red', 'black',\n",
       "       'yellow', 'black'], dtype='<U6')"
      ]
     },
     "execution_count": 21,
     "metadata": {},
     "output_type": "execute_result"
    }
   ],
   "source": [
    "colors = ['red', 'blue', 'yellow', 'black']\n",
    "rng.choice(colors, 10, p=[0.5, 0.1, 0.1, 0.3])"
   ]
  },
  {
   "cell_type": "markdown",
   "id": "7ea5a24e-3a08-4444-befb-d4d75dc1ae6b",
   "metadata": {},
   "source": [
    "***"
   ]
  },
  {
   "cell_type": "code",
   "execution_count": 22,
   "id": "6d0619be-f9d8-488a-af81-5ed38e5ac0c7",
   "metadata": {},
   "outputs": [
    {
     "data": {
      "text/plain": [
       "array([[ 10,  20,  30],\n",
       "       [ 10,  20,  30],\n",
       "       [  1,   2,   3],\n",
       "       [100, 200, 300],\n",
       "       [100, 200, 300]])"
      ]
     },
     "execution_count": 22,
     "metadata": {},
     "output_type": "execute_result"
    }
   ],
   "source": [
    "rng.choice ([[1,2,3], [10,20,30], [100,200,300]],5, axis = 0)"
   ]
  },
  {
   "cell_type": "markdown",
   "id": "1eab0e29-595b-47d1-bc79-fb6ddfa9b7c8",
   "metadata": {},
   "source": [
    "***"
   ]
  },
  {
   "cell_type": "code",
   "execution_count": 23,
   "id": "412c4582-fb47-4e29-8ff1-3997a25a9197",
   "metadata": {},
   "outputs": [
    {
     "data": {
      "text/plain": [
       "array([[  2,   1,   2,   2,   2],\n",
       "       [ 20,  10,  20,  20,  20],\n",
       "       [200, 100, 200, 200, 200]])"
      ]
     },
     "execution_count": 23,
     "metadata": {},
     "output_type": "execute_result"
    }
   ],
   "source": [
    "rng.choice ([[1,2,3], [10,20,30], [100,200,300]],5, axis = 1)"
   ]
  },
  {
   "cell_type": "markdown",
   "id": "c3a6cb4c-1a32-4016-8b30-10ce92d5b428",
   "metadata": {},
   "source": [
    "***"
   ]
  },
  {
   "cell_type": "code",
   "execution_count": 24,
   "id": "940abfab-fbaf-4ef4-b401-16c132d89c2a",
   "metadata": {},
   "outputs": [
    {
     "data": {
      "text/plain": [
       "array([2, 5, 1, 8, 6, 7, 0, 3, 9, 4], dtype=int64)"
      ]
     },
     "execution_count": 24,
     "metadata": {},
     "output_type": "execute_result"
    }
   ],
   "source": [
    "rng.choice (10,10, replace = False, shuffle = True)"
   ]
  },
  {
   "cell_type": "markdown",
   "id": "a4296ae4-140e-439d-9651-09f256620465",
   "metadata": {},
   "source": [
    "***"
   ]
  },
  {
   "cell_type": "code",
   "execution_count": 25,
   "id": "395aacce-8f89-4ac4-82d3-5679f66d4661",
   "metadata": {},
   "outputs": [
    {
     "data": {
      "text/plain": [
       "array([0, 1, 2, 3, 4, 5, 6, 7, 8, 9], dtype=int64)"
      ]
     },
     "execution_count": 25,
     "metadata": {},
     "output_type": "execute_result"
    }
   ],
   "source": [
    "rng.choice (10,10, replace = False, shuffle = False)"
   ]
  },
  {
   "cell_type": "markdown",
   "id": "66e01608-2de7-4296-8d0b-e0ae7f8c6a07",
   "metadata": {},
   "source": [
    "***"
   ]
  },
  {
   "cell_type": "code",
   "execution_count": 26,
   "id": "29af7c24-26f1-4368-bd17-9d26e6f56e8e",
   "metadata": {},
   "outputs": [
    {
     "name": "stdout",
     "output_type": "stream",
     "text": [
      "2D Array:\n",
      " [[ 0  1  2  3  4]\n",
      " [ 5  6  7  8  9]\n",
      " [10 11 12 13 14]\n",
      " [15 16 17 18 19]\n",
      " [20 21 22 23 24]] \n",
      "\n"
     ]
    },
    {
     "data": {
      "image/png": "[encoded data removed]",
      "text/plain": [
       "<Figure size 432x288 with 2 Axes>"
      ]
     },
     "metadata": {
      "needs_background": "light"
     },
     "output_type": "display_data"
    }
   ],
   "source": [
    "b = (rng.choice (25,(5,5), replace = False, shuffle = False))\n",
    "print(\"2D Array:\\n\", b, \"\\n\")\n",
    "plt.title(\"Title\")\n",
    "plt.xlabel(\"Axis 1 - Column\")\n",
    "plt.ylabel(\"Axis 0 - Row\")\n",
    "plt.imshow(b)\n",
    "color_map = plt.imshow(b)\n",
    "color_map.set_cmap(\"Blues_r\")\n",
    "plt.colorbar()\n",
    "plt.show()"
   ]
  },
  {
   "cell_type": "markdown",
   "id": "1a268ee8-0bf9-4d32-9431-2d88ea6c4801",
   "metadata": {},
   "source": [
    "***"
   ]
  },
  {
   "cell_type": "code",
   "execution_count": 27,
   "id": "078310f3-ac94-4b5d-b16c-62f4540f4046",
   "metadata": {},
   "outputs": [
    {
     "name": "stdout",
     "output_type": "stream",
     "text": [
      "2D Array:\n",
      " [[20 14  5 22  3]\n",
      " [12 10 16 21  2]\n",
      " [ 9  8 24 15 23]\n",
      " [ 4  1 13  0 17]\n",
      " [18 11  7 19  6]] \n",
      "\n"
     ]
    },
    {
     "data": {
      "image/png": "[encoded data removed]",
      "text/plain": [
       "<Figure size 432x288 with 2 Axes>"
      ]
     },
     "metadata": {
      "needs_background": "light"
     },
     "output_type": "display_data"
    }
   ],
   "source": [
    "a = (rng.choice (25,(5,5), replace = False, shuffle = True))\n",
    "print(\"2D Array:\\n\", a, \"\\n\")\n",
    "plt.title(\"Title\")\n",
    "plt.xlabel(\"Axis 1 - Column\")\n",
    "plt.ylabel(\"Axis 0 - Row\")\n",
    "plt.imshow(a)\n",
    "color_map = plt.imshow(a)\n",
    "color_map.set_cmap(\"Blues_r\")\n",
    "plt.colorbar()\n",
    "plt.show()"
   ]
  },
  {
   "cell_type": "markdown",
   "id": "fdc71663-aeb7-4540-b95f-d6a19b0bb52c",
   "metadata": {},
   "source": [
    "#### [**bytes**](https://numpy.org/doc/stable/reference/random/generated/numpy.random.Generator.bytes.html#numpy.random.Generator.bytes) (length) <a id='bytes'></a>\n",
    "\n",
    "Genarates random bytes. The number of bytes is defined by ***length***."
   ]
  },
  {
   "cell_type": "markdown",
   "id": "893e533c-20ad-4403-b21f-83e0b11617af",
   "metadata": {},
   "source": [
    "##### EXAMPLES:\n",
    "***"
   ]
  },
  {
   "cell_type": "code",
   "execution_count": 28,
   "id": "ececbe17-1b64-4ad3-97ea-78aad9fdc974",
   "metadata": {},
   "outputs": [
    {
     "data": {
      "text/plain": [
       "b'\\xb6'"
      ]
     },
     "execution_count": 28,
     "metadata": {},
     "output_type": "execute_result"
    }
   ],
   "source": [
    "rng.bytes(1)"
   ]
  },
  {
   "cell_type": "markdown",
   "id": "cce5e8cb-8281-40f3-a9c1-70358cc7592e",
   "metadata": {},
   "source": [
    "***"
   ]
  },
  {
   "cell_type": "code",
   "execution_count": 29,
   "id": "bab9a1fd-3321-4a2c-b45d-ed7cc91f2c27",
   "metadata": {},
   "outputs": [
    {
     "data": {
      "text/plain": [
       "b'n*\\xad|\\x88'"
      ]
     },
     "execution_count": 29,
     "metadata": {},
     "output_type": "execute_result"
    }
   ],
   "source": [
    "rng.bytes(5)"
   ]
  },
  {
   "cell_type": "markdown",
   "id": "ef386b95-5ef3-4b2a-a380-3cd4ffa4c310",
   "metadata": {},
   "source": [
    "***"
   ]
  },
  {
   "cell_type": "markdown",
   "id": "1447a836-7e15-4799-be48-b8cd8dcdd4e6",
   "metadata": {},
   "source": [
    "### PERMUTATIONS\n",
    "\n",
    "Intro + differences"
   ]
  },
  {
   "cell_type": "markdown",
   "id": "1d251a22-b668-4a58-981b-b285a8c1bea8",
   "metadata": {},
   "source": [
    "***"
   ]
  },
  {
   "cell_type": "markdown",
   "id": "b0a66149-fd30-4e5d-ac19-ba9aee504f2b",
   "metadata": {},
   "source": [
    "#### [**shuffle**](https://numpy.org/doc/stable/reference/random/generated/numpy.random.Generator.shuffle.html#numpy.random.Generator.shuffle) (x, axis=0) <a id='shuffle'></a>\n",
    "\n",
    "Modifies an array or sequence in-place by shuffling its contents. The order of sub-arrays is changed but their contents remains the same. A subarray is a contiguous part of array, an array that is inside another array. [8] ***x*** defines the element to be shuffled. ***axis*** defines the axis which *x* is shuffled along. It is *0* by default."
   ]
  },
  {
   "cell_type": "markdown",
   "id": "11b4d044-7922-49eb-91c9-3f4bf0a522e0",
   "metadata": {},
   "source": [
    "##### EXAMPLES:\n",
    "***"
   ]
  },
  {
   "cell_type": "code",
   "execution_count": 30,
   "id": "bd8cfce0-acf1-49ae-924a-7861483df3b0",
   "metadata": {},
   "outputs": [
    {
     "name": "stdout",
     "output_type": "stream",
     "text": [
      "[7 0 1 2 6 5 8 3 9 4]\n"
     ]
    },
    {
     "data": {
      "image/png": "[encoded data removed]",
      "text/plain": [
       "<Figure size 432x288 with 1 Axes>"
      ]
     },
     "metadata": {
      "needs_background": "light"
     },
     "output_type": "display_data"
    }
   ],
   "source": [
    "x_sh = np.arange(10)\n",
    "rng.shuffle(x_sh)\n",
    "print (x_sh)\n",
    "plt.hist(x_sh)\n",
    "plt.show()"
   ]
  },
  {
   "cell_type": "markdown",
   "id": "faf8f466-c73a-4370-a846-1f4dbc32854e",
   "metadata": {},
   "source": [
    "***"
   ]
  },
  {
   "cell_type": "code",
   "execution_count": 31,
   "id": "67051b32-f940-420e-983c-c85483758899",
   "metadata": {},
   "outputs": [
    {
     "name": "stdout",
     "output_type": "stream",
     "text": [
      "[[[ 9 10 11]\n",
      "  [12 13 14]\n",
      "  [15 16 17]]\n",
      "\n",
      " [[18 19 20]\n",
      "  [21 22 23]\n",
      "  [24 25 26]]\n",
      "\n",
      " [[ 0  1  2]\n",
      "  [ 3  4  5]\n",
      "  [ 6  7  8]]]\n"
     ]
    }
   ],
   "source": [
    "x1_sh = np.arange(27).reshape((3, 3, 3))\n",
    "rng.shuffle(x1_sh)\n",
    "print(x1_sh)"
   ]
  },
  {
   "cell_type": "markdown",
   "id": "0865e06e-a2cb-42b4-af5e-745c41f52d32",
   "metadata": {},
   "source": [
    "***"
   ]
  },
  {
   "cell_type": "code",
   "execution_count": 32,
   "id": "51647f72-2557-401a-86e2-402b7d2c258a",
   "metadata": {},
   "outputs": [
    {
     "name": "stdout",
     "output_type": "stream",
     "text": [
      "[[[ 3  4  5]\n",
      "  [ 6  7  8]\n",
      "  [ 0  1  2]]\n",
      "\n",
      " [[12 13 14]\n",
      "  [15 16 17]\n",
      "  [ 9 10 11]]\n",
      "\n",
      " [[21 22 23]\n",
      "  [24 25 26]\n",
      "  [18 19 20]]]\n"
     ]
    }
   ],
   "source": [
    "x2_sh = np.arange(27).reshape((3, 3, 3))\n",
    "rng.shuffle(x2_sh, axis = 1)\n",
    "print(x2_sh)"
   ]
  },
  {
   "cell_type": "markdown",
   "id": "a4aa1a6e-529f-41e8-865f-c021a93cbfab",
   "metadata": {},
   "source": [
    "***"
   ]
  },
  {
   "cell_type": "code",
   "execution_count": 33,
   "id": "7120c9e5-805e-4ba5-9da5-a0b35ce59e0f",
   "metadata": {},
   "outputs": [
    {
     "name": "stdout",
     "output_type": "stream",
     "text": [
      "[[[ 0  2  1]\n",
      "  [ 3  5  4]\n",
      "  [ 6  8  7]]\n",
      "\n",
      " [[ 9 11 10]\n",
      "  [12 14 13]\n",
      "  [15 17 16]]\n",
      "\n",
      " [[18 20 19]\n",
      "  [21 23 22]\n",
      "  [24 26 25]]]\n"
     ]
    }
   ],
   "source": [
    "x3_sh = np.arange(27).reshape((3, 3, 3))\n",
    "rng.shuffle(x3_sh, axis = 2)\n",
    "print(x3_sh)"
   ]
  },
  {
   "cell_type": "code",
   "execution_count": null,
   "id": "d10fcd1c-4625-4e05-bd7e-ffc8a321e8fa",
   "metadata": {},
   "outputs": [],
   "source": []
  },
  {
   "cell_type": "markdown",
   "id": "48a89085-6697-4730-9f57-3077e476a56d",
   "metadata": {},
   "source": [
    "#### [**permutation**](https://numpy.org/doc/stable/reference/random/generated/numpy.random.Generator.permutation.html#numpy.random.Generator.permutation) (x, axis=0) <a id='permutation'></a>\n",
    "\n",
    "Randomly permutes a sequence, or returns a permuted range. ***x*** defines the element to be permuted. If it is an integer, randomly permute *np.arange(x)*. If *x* is an array, makes a copy and shuffles the elements randomly. ***x*** is he axis which x is shuffled along and it is *0* by default."
   ]
  },
  {
   "cell_type": "markdown",
   "id": "251f49e6-6ef4-4b71-bd04-3def06fe4fad",
   "metadata": {},
   "source": [
    "##### EXAMPLES:\n",
    "***"
   ]
  },
  {
   "cell_type": "code",
   "execution_count": 34,
   "id": "2077d855-2a9c-4fc1-9c58-5c2b8cc4e26d",
   "metadata": {},
   "outputs": [
    {
     "name": "stdout",
     "output_type": "stream",
     "text": [
      "[2 3 1 7 0 6 8 4 9 5]\n"
     ]
    }
   ],
   "source": [
    "x_per = (rng.permutation(10))\n",
    "print (x_per)"
   ]
  },
  {
   "cell_type": "markdown",
   "id": "0b908cfd-d16e-4a7a-a840-5aea954aed9e",
   "metadata": {},
   "source": [
    "***"
   ]
  },
  {
   "cell_type": "code",
   "execution_count": 35,
   "id": "aaa48366-ad9e-4d7e-9941-9ecaac06abd1",
   "metadata": {},
   "outputs": [
    {
     "name": "stdout",
     "output_type": "stream",
     "text": [
      "[12  1  9 15  4]\n"
     ]
    }
   ],
   "source": [
    "x1_per = (rng.permutation([1, 4, 9, 12, 15]))\n",
    "print(x1_per)"
   ]
  },
  {
   "cell_type": "markdown",
   "id": "35bdb719-164f-4225-9bbe-87c50320d751",
   "metadata": {},
   "source": [
    "***"
   ]
  },
  {
   "cell_type": "code",
   "execution_count": 36,
   "id": "f616303b-99a8-47db-a638-a9a71d1d3288",
   "metadata": {},
   "outputs": [
    {
     "name": "stdout",
     "output_type": "stream",
     "text": [
      "[[0 1 2]\n",
      " [3 4 5]\n",
      " [6 7 8]]\n"
     ]
    }
   ],
   "source": [
    "x3_per = (np.arange(9).reshape((3, 3)))\n",
    "rng.permutation(x3_per)\n",
    "print (x3_per)"
   ]
  },
  {
   "cell_type": "markdown",
   "id": "d34c8d49-219b-4176-b96b-bc8de6167ddb",
   "metadata": {},
   "source": [
    "***"
   ]
  },
  {
   "cell_type": "code",
   "execution_count": null,
   "id": "e97c9c02-d2f5-46f9-8c19-b2d1d4a03760",
   "metadata": {},
   "outputs": [],
   "source": []
  },
  {
   "cell_type": "markdown",
   "id": "2048b39d-ca57-495f-a6f3-80ff2a3cc2b6",
   "metadata": {},
   "source": [
    "#### [**permuted**](https://numpy.org/doc/stable/reference/random/generated/numpy.random.Generator.permuted.html#numpy.random.Generator.permuted) (x, axis=None, out=None) <a id='permuted'></a>\n",
    "\n",
    "Randomly permute *x* along axis where each slice along the given axis is shuffled independently of the others. ***x*** is an array to be shuffled. ***axis*** defines the axis in which slices of *x* are shuffled. Each slice is shuffled independently of the others. If *axis* is *None*, the flattened array is shuffled. ***out*** defines the destinaton of the shuffled array. If it is *None*, a shuffled copy of the array is returned."
   ]
  },
  {
   "cell_type": "markdown",
   "id": "746ecb10-931a-400b-a283-460ba9c4678b",
   "metadata": {},
   "source": [
    "##### EXAMPLES:\n",
    "***"
   ]
  },
  {
   "cell_type": "code",
   "execution_count": 37,
   "id": "1bbff4d2-820a-4d13-8195-22f9d3d5fbc0",
   "metadata": {},
   "outputs": [
    {
     "name": "stdout",
     "output_type": "stream",
     "text": [
      "x(before)=\n",
      " [[ 0  1  2  3  4  5  6  7]\n",
      " [ 8  9 10 11 12 13 14 15]\n",
      " [16 17 18 19 20 21 22 23]] \n",
      "\n",
      "y=\n",
      " [[ 7  6  2  3  4  0  5  1]\n",
      " [ 8 12 10 11 15  9 13 14]\n",
      " [18 19 20 23 17 21 16 22]] \n",
      "\n",
      "x(after)=\n",
      " [[ 0  1  2  3  4  5  6  7]\n",
      " [ 8  9 10 11 12 13 14 15]\n",
      " [16 17 18 19 20 21 22 23]] \n",
      "\n"
     ]
    }
   ],
   "source": [
    "x_perd = np.arange(24).reshape(3, 8)\n",
    "print (\"x(before)=\\n\", x_perd, \"\\n\")\n",
    "y_perd = rng.permuted(x_perd, axis=1)\n",
    "print (\"y=\\n\", y_perd, \"\\n\")\n",
    "print (\"x(after)=\\n\", x_perd, \"\\n\")"
   ]
  },
  {
   "cell_type": "markdown",
   "id": "86dff15f-ebbb-45a7-bb36-9282ecf94a5b",
   "metadata": {},
   "source": [
    "***"
   ]
  },
  {
   "cell_type": "code",
   "execution_count": 38,
   "id": "43bf7d8a-3164-4f3e-8df2-3b3cbbb400e6",
   "metadata": {},
   "outputs": [
    {
     "name": "stdout",
     "output_type": "stream",
     "text": [
      "x(before)=\n",
      " [[ 0  1  2  3  4  5  6  7]\n",
      " [ 8  9 10 11 12 13 14 15]\n",
      " [16 17 18 19 20 21 22 23]] \n",
      "\n",
      "y=\n",
      " [[ 2  0  1  7  4  6  3  5]\n",
      " [10 12 13 15 14  9 11  8]\n",
      " [18 23 21 20 19 16 22 17]] \n",
      "\n",
      "x(after)=\n",
      " [[ 2  0  1  7  4  6  3  5]\n",
      " [10 12 13 15 14  9 11  8]\n",
      " [18 23 21 20 19 16 22 17]] \n",
      "\n"
     ]
    }
   ],
   "source": [
    "x1_perd = np.arange(24).reshape(3, 8)\n",
    "print (\"x(before)=\\n\", x1_perd, \"\\n\")\n",
    "y1_perd = rng.permuted(x1_perd, axis=1, out = x1_perd)\n",
    "print (\"y=\\n\", y1_perd, \"\\n\")\n",
    "print (\"x(after)=\\n\", x1_perd, \"\\n\")"
   ]
  },
  {
   "cell_type": "markdown",
   "id": "ff95beb9-62b5-47ff-8a79-819a10e1a966",
   "metadata": {},
   "source": [
    "***"
   ]
  },
  {
   "cell_type": "code",
   "execution_count": null,
   "id": "ebb367ce-f6ff-46b1-963b-e5d4a53f218a",
   "metadata": {},
   "outputs": [],
   "source": []
  },
  {
   "cell_type": "markdown",
   "id": "40072e1e-d2fc-4935-b2ec-02edd3346426",
   "metadata": {},
   "source": [
    "### DISTRIBUTIONS\n",
    "\n",
    "A data distribution is a function or a listing which shows all the possible values (or intervals) of the data. It also tells you how often each value occurs. [9] There are over 20 different types of data distributions (applied to the continuous or the discrete space) commonly used in data science to model various types of phenomena. They also have many interconnections. [10] There are 5 commonly used distributions from Numpy.random package explained below.\n",
    "\n",
    "<center><img src=\"https://miro.medium.com/max/700/1*szMCjXuMDfKu6L9T9c34wg.png\" width=\"700\"/></center>"
   ]
  },
  {
   "cell_type": "markdown",
   "id": "68cf1977-24a8-4793-bf20-ab7d029a9336",
   "metadata": {},
   "source": [
    "#### [**uniform**](https://numpy.org/doc/stable/reference/random/generated/numpy.random.Generator.uniform.html#numpy.random.Generator.uniform) (low=0.0, high=1.0, size=None) <a id='uniform'></a>\n",
    "\n",
    "A uniform distribution, sometimes also known as a rectangular distribution, is a distribution that has constant probability. [11] This means that all outcomes are equally likely to happen.\n",
    "\n",
    "***"
   ]
  },
  {
   "cell_type": "markdown",
   "id": "473d2ddf-752f-4cfc-8e2b-5ed239f66a77",
   "metadata": {},
   "source": [
    "EXAMPLES\n",
    "***"
   ]
  },
  {
   "cell_type": "code",
   "execution_count": 39,
   "id": "f69419a1-cf51-43c9-8d94-6f6302db7ec8",
   "metadata": {},
   "outputs": [
    {
     "name": "stdout",
     "output_type": "stream",
     "text": [
      "[2.91483102 1.28769439 7.85050398 ... 1.12759535 3.05545045 5.67330483]\n"
     ]
    },
    {
     "data": {
      "image/png": "[encoded data removed]",
      "text/plain": [
       "<Figure size 432x288 with 1 Axes>"
      ]
     },
     "metadata": {
      "needs_background": "light"
     },
     "output_type": "display_data"
    }
   ],
   "source": [
    "s_uni = np.random.default_rng().uniform(0,10,1000000)\n",
    "print (s_uni)\n",
    "plt.hist (s_uni)\n",
    "plt.show()"
   ]
  },
  {
   "cell_type": "markdown",
   "id": "6f7542c1-26f2-478d-a5e5-c060931ce05f",
   "metadata": {},
   "source": [
    "***"
   ]
  },
  {
   "cell_type": "code",
   "execution_count": null,
   "id": "e5954309-4e7d-4136-a8b1-068c31ef7a5c",
   "metadata": {},
   "outputs": [],
   "source": []
  },
  {
   "cell_type": "code",
   "execution_count": null,
   "id": "f4375c75-21e4-4bb1-b32e-9c45c2530bc1",
   "metadata": {},
   "outputs": [],
   "source": []
  },
  {
   "cell_type": "markdown",
   "id": "ba9990d1-48a8-4c3c-b0cd-f8033491565b",
   "metadata": {},
   "source": [
    "#### [**normal**](https://numpy.org/doc/stable/reference/random/generated/numpy.random.Generator.normal.html#numpy.random.Generator.normal) (loc=0.0, scale=1.0, size=None) <a id='normal'></a>\n",
    "\n",
    "Normal distribution, also known as the Gaussian distribution, is a probability distribution that is symmetric about the mean, showing that data near the mean are more frequent in occurrence than data far from the mean. In graph form, normal distribution will appear as a bell curve. [12]"
   ]
  },
  {
   "cell_type": "markdown",
   "id": "f7c4ec10-e157-435f-8615-0998a117d421",
   "metadata": {},
   "source": [
    "EXAMPLES\n",
    "***"
   ]
  },
  {
   "cell_type": "code",
   "execution_count": 40,
   "id": "bf7b2d58-3103-4a4d-98aa-f3b6be57e2fe",
   "metadata": {},
   "outputs": [
    {
     "name": "stdout",
     "output_type": "stream",
     "text": [
      "[ 12.94820753  -1.03484305  -1.60007228 ... -17.01090133  -5.05939353\n",
      "   2.43838806]\n"
     ]
    },
    {
     "data": {
      "image/png": "[encoded data removed]",
      "text/plain": [
       "<Figure size 432x288 with 1 Axes>"
      ]
     },
     "metadata": {
      "needs_background": "light"
     },
     "output_type": "display_data"
    }
   ],
   "source": [
    "s_norm = np.random.default_rng().normal(0, 10, 10000)\n",
    "print(s_norm)\n",
    "plt.hist(s_norm)\n",
    "plt.show()"
   ]
  },
  {
   "cell_type": "markdown",
   "id": "8c7ad03b-8d19-4c74-a8e5-6742a27ef9cd",
   "metadata": {},
   "source": [
    "***"
   ]
  },
  {
   "cell_type": "code",
   "execution_count": null,
   "id": "068e8553-fcc1-45ae-a49e-ea2472708266",
   "metadata": {},
   "outputs": [],
   "source": []
  },
  {
   "cell_type": "markdown",
   "id": "3f753175-aef1-4fec-9471-a4c4669d9400",
   "metadata": {},
   "source": [
    "#### [**binomal**](https://numpy.org/doc/stable/reference/random/generated/numpy.random.Generator.binomial.html#numpy.random.Generator.binomial) (n, p, size=None) <a id='binomal'></a>\n",
    "\n",
    "A binomial distribution can be thought of as simply the probability of a success or failure outcome in an experiment or survey that is repeated multiple times. The binomial is a type of distribution that has two possible outcomes. [13]"
   ]
  },
  {
   "cell_type": "markdown",
   "id": "236ada37-fac0-49de-9a59-8584d48e4e26",
   "metadata": {},
   "source": [
    "EXAMPLES\n",
    "***"
   ]
  },
  {
   "cell_type": "code",
   "execution_count": 41,
   "id": "dd9c9bd5-0a96-4dd9-aa3e-b6ecf3bdaab4",
   "metadata": {},
   "outputs": [
    {
     "name": "stdout",
     "output_type": "stream",
     "text": [
      "[ 83 119  92 ... 102 116 105]\n"
     ]
    },
    {
     "data": {
      "image/png": "[encoded data removed]",
      "text/plain": [
       "<Figure size 432x288 with 1 Axes>"
      ]
     },
     "metadata": {
      "needs_background": "light"
     },
     "output_type": "display_data"
    }
   ],
   "source": [
    "s_bi = rng.binomial(1000, 0.1, 1000000)\n",
    "print (s_bi)\n",
    "plt.hist (s_bi)\n",
    "plt.show()"
   ]
  },
  {
   "cell_type": "markdown",
   "id": "2f7a78cc-5d5d-407b-ac7c-bd6f93ad80b5",
   "metadata": {},
   "source": [
    "***"
   ]
  },
  {
   "cell_type": "code",
   "execution_count": 42,
   "id": "1235dc6f-f812-4836-a7f7-f96a4c43f74a",
   "metadata": {},
   "outputs": [
    {
     "name": "stdout",
     "output_type": "stream",
     "text": [
      "[518 508 504 ... 491 473 496]\n"
     ]
    },
    {
     "data": {
      "image/png": "[encoded data removed]",
      "text/plain": [
       "<Figure size 432x288 with 1 Axes>"
      ]
     },
     "metadata": {
      "needs_background": "light"
     },
     "output_type": "display_data"
    }
   ],
   "source": [
    "s1_bi = rng.binomial(1000, 0.5, 1000000)\n",
    "print (s1_bi)\n",
    "plt.hist (s1_bi)\n",
    "plt.show()"
   ]
  },
  {
   "cell_type": "markdown",
   "id": "8e0a3013-32ad-49fd-8247-b42cd359a12b",
   "metadata": {},
   "source": [
    "***"
   ]
  },
  {
   "cell_type": "code",
   "execution_count": 43,
   "id": "ae3751d4-c5ad-4d15-9cc0-895b2acd2624",
   "metadata": {},
   "outputs": [
    {
     "name": "stdout",
     "output_type": "stream",
     "text": [
      "[899 898 904 ... 894 902 890]\n"
     ]
    },
    {
     "data": {
      "image/png": "[encoded data removed]",
      "text/plain": [
       "<Figure size 432x288 with 1 Axes>"
      ]
     },
     "metadata": {
      "needs_background": "light"
     },
     "output_type": "display_data"
    }
   ],
   "source": [
    "s2_bi = rng.binomial(1000, 0.9, 1000000)\n",
    "print (s2_bi)\n",
    "plt.hist (s2_bi)\n",
    "plt.show()"
   ]
  },
  {
   "cell_type": "markdown",
   "id": "b362fa3e-3c18-411d-8281-a2d84218d750",
   "metadata": {},
   "source": [
    "***"
   ]
  },
  {
   "cell_type": "markdown",
   "id": "eef08e83-39e3-42c0-b5ce-2f2c423b286a",
   "metadata": {},
   "source": [
    "#### [**hypergeometric**](https://numpy.org/doc/stable/reference/random/generated/numpy.random.Generator.hypergeometric.html#numpy.random.Generator.hypergeometric) (ngood, nbad, nsample, size=None) <a id='hypergeometric'></a>\n",
    "\n",
    "Hypergeometric distribution is a distribution function in which selections are made from two groups without replacing members of the groups. The hypergeometric distribution differs from the binomial distribution in the lack of replacements. [14]"
   ]
  },
  {
   "cell_type": "markdown",
   "id": "00bd7efa-398a-4e77-b962-32c8cddaa973",
   "metadata": {},
   "source": [
    "EXAMPLES\n",
    "***"
   ]
  },
  {
   "cell_type": "code",
   "execution_count": 140,
   "id": "7923c95b-1379-4eb0-a325-09576488b438",
   "metadata": {},
   "outputs": [
    {
     "name": "stdout",
     "output_type": "stream",
     "text": [
      "[7 3 5 ... 3 6 4]\n"
     ]
    },
    {
     "data": {
      "image/png": "[encoded data removed]",
      "text/plain": [
       "<Figure size 432x288 with 1 Axes>"
      ]
     },
     "metadata": {
      "needs_background": "light"
     },
     "output_type": "display_data"
    }
   ],
   "source": [
    "s_hype = (rng.hypergeometric(100, 100, 10, 1000000))\n",
    "print (s_hype)\n",
    "plt.hist(s_hype)\n",
    "plt.show()"
   ]
  },
  {
   "cell_type": "markdown",
   "id": "78cb25c9-0eb8-4704-8cbd-338da37ba1ff",
   "metadata": {},
   "source": [
    "***"
   ]
  },
  {
   "cell_type": "code",
   "execution_count": 141,
   "id": "5ad52ca7-5db2-41db-a7da-02bd5b819022",
   "metadata": {},
   "outputs": [
    {
     "name": "stdout",
     "output_type": "stream",
     "text": [
      "[0 0 0 ... 0 0 0]\n"
     ]
    },
    {
     "data": {
      "image/png": "[encoded data removed]",
      "text/plain": [
       "<Figure size 432x288 with 1 Axes>"
      ]
     },
     "metadata": {
      "needs_background": "light"
     },
     "output_type": "display_data"
    }
   ],
   "source": [
    "s1_hype = (rng.hypergeometric(2, 100, 10, 1000000))\n",
    "print (s1_hype)\n",
    "plt.hist(s1_hype)\n",
    "plt.show()"
   ]
  },
  {
   "cell_type": "markdown",
   "id": "cc1ac724-cbe2-4e42-b710-6cb110afe765",
   "metadata": {},
   "source": [
    "***"
   ]
  },
  {
   "cell_type": "code",
   "execution_count": 142,
   "id": "a45d3d74-6490-45e2-839f-6edd71200126",
   "metadata": {},
   "outputs": [
    {
     "name": "stdout",
     "output_type": "stream",
     "text": [
      "[10 10 10 ... 10 10 10]\n"
     ]
    },
    {
     "data": {
      "image/png": "[encoded data removed]",
      "text/plain": [
       "<Figure size 432x288 with 1 Axes>"
      ]
     },
     "metadata": {
      "needs_background": "light"
     },
     "output_type": "display_data"
    }
   ],
   "source": [
    "s3_hype = (rng.hypergeometric(100, 2, 10, 1000000))\n",
    "print (s3_hype)\n",
    "plt.hist(s3_hype)\n",
    "plt.show()"
   ]
  },
  {
   "cell_type": "markdown",
   "id": "af23dd1a-988a-4925-bc5a-16ef0e51f428",
   "metadata": {},
   "source": [
    "***"
   ]
  },
  {
   "cell_type": "markdown",
   "id": "479f91a6-12b5-430b-b869-9d4bfd266095",
   "metadata": {},
   "source": [
    "#### [**poisson**](https://numpy.org/doc/stable/reference/random/generated/numpy.random.Generator.poisson.html#numpy.random.Generator.poisson) (lam=1.0, size=None) <a id='poisson'></a>\n",
    "\n",
    "Poisson distribution is a probability distribution that is used to show how many times an event is likely to occur over a specified period. In other words, it is a count distribution. [15]"
   ]
  },
  {
   "cell_type": "markdown",
   "id": "1c55d19c-0cfe-4872-95b0-d5ecc679e4c3",
   "metadata": {},
   "source": [
    "EXAMPLES\n",
    "***"
   ]
  },
  {
   "cell_type": "code",
   "execution_count": 149,
   "id": "ec7b86ca-1c57-4d39-9048-e5235e7e1ffe",
   "metadata": {},
   "outputs": [
    {
     "name": "stdout",
     "output_type": "stream",
     "text": [
      "[3 5 6 ... 5 3 2]\n"
     ]
    },
    {
     "data": {
      "image/png": "[encoded data removed]",
      "text/plain": [
       "<Figure size 432x288 with 1 Axes>"
      ]
     },
     "metadata": {
      "needs_background": "light"
     },
     "output_type": "display_data"
    }
   ],
   "source": [
    "s_poi = (rng.poisson(5, 100000))\n",
    "print(s_poi)\n",
    "plt.hist (s_poi)\n",
    "plt.show()"
   ]
  },
  {
   "cell_type": "markdown",
   "id": "c5ef2292-bc4c-47f3-bd97-d4999c49e406",
   "metadata": {},
   "source": [
    "***"
   ]
  },
  {
   "cell_type": "code",
   "execution_count": null,
   "id": "33461b06-f6ec-433d-8b5b-40673fda2948",
   "metadata": {},
   "outputs": [],
   "source": []
  },
  {
   "cell_type": "markdown",
   "id": "d2b61b08-040e-4028-9ec5-86b81c3839b4",
   "metadata": {},
   "source": [
    "### SEEDS"
   ]
  },
  {
   "cell_type": "markdown",
   "id": "ac2df7a6-b246-466c-90a1-1601aee69539",
   "metadata": {},
   "source": [
    "## CONCLUSION\n",
    "***"
   ]
  },
  {
   "cell_type": "markdown",
   "id": "1cde162b-8cf2-4e00-a8db-361083332a03",
   "metadata": {},
   "source": [
    "## REFERENCES\n",
    "\n",
    "- [1] https://towardsdatascience.com/getting-started-with-numpy-59b22df56729\n",
    "- [2] https://python.plainenglish.io/what-are-basics-of-numpy-2afa9a9455cb\n",
    "- [3] https://www.w3schools.com/python/numpy/numpy_intro.asp\n",
    "- [4] https://www.javatpoint.com/numpy-random\n",
    "- [5] https://pythonguides.com/python-numpy-random/\n",
    "- [6] https://www.w3schools.com/python/numpy/numpy_random.asp\n",
    "- [7] https://corporatefinanceinstitute.com/resources/knowledge/other/uniform-distribution/\n",
    "- [8] https://www.geeksforgeeks.org/subarraysubstring-vs-subsequence-and-programs-to-generate-them/\n",
    "- [9] https://www.statisticshowto.com/data-distribution/\n",
    "- [10] https://www.kdnuggets.com/2020/06/overview-data-distributions.html\n",
    "- [11] https://mathworld.wolfram.com/UniformDistribution.html\n",
    "- [12] https://www.investopedia.com/terms/n/normaldistribution.asp\n",
    "- [13] https://www.statisticshowto.com/probability-and-statistics/binomial-theorem/binomial-distribution-formula/\n",
    "- [14] https://www.britannica.com/topic/hypergeometric-distribution\n",
    "- [15] https://www.investopedia.com/terms/p/poisson-distribution.asp"
   ]
  },
  {
   "cell_type": "markdown",
   "id": "af22aa3e-8690-41e9-ac5c-338967ac757e",
   "metadata": {},
   "source": [
    "## Links to check\n"
   ]
  },
  {
   "cell_type": "markdown",
   "id": "c0c38716-1e5c-4cf1-8528-cf4813b542af",
   "metadata": {},
   "source": [
    "- https://numpy.org/doc/stable/reference/random/index.html\n",
    "- https://www.w3schools.com/python/numpy/numpy_random.asp\n",
    "- https://www.geeksforgeeks.org/random-sampling-in-numpy-random-function/\n",
    "- https://www.javatpoint.com/numpy-random\n",
    "- https://pythonguides.com/python-numpy-random/\n",
    "- https://docs.scipy.org/doc/numpy-1.17.0/reference/random/generator.html\n",
    "- https://en.wikipedia.org/wiki/Discrete_uniform_distribution\n",
    "- https://en.wikipedia.org/wiki/Continuous_uniform_distribution\n",
    "- https://stackoverflow.com/questions/28080066/how-to-reference-a-ipython-notebook-cell-in-markdown"
   ]
  },
  {
   "cell_type": "markdown",
   "id": "e369ca8e-4743-4f8e-8242-a1962a705c28",
   "metadata": {},
   "source": []
  },
  {
   "cell_type": "code",
   "execution_count": null,
   "id": "7bc40a84-7df0-4938-bfa8-d64107dacd44",
   "metadata": {},
   "outputs": [],
   "source": []
  }
 ],
 "metadata": {
  "kernelspec": {
   "display_name": "Python 3",
   "language": "python",
   "name": "python3"
  },
  "language_info": {
   "codemirror_mode": {
    "name": "ipython",
    "version": 3
   },
   "file_extension": ".py",
   "mimetype": "text/x-python",
   "name": "python",
   "nbconvert_exporter": "python",
   "pygments_lexer": "ipython3",
   "version": "3.8.8"
  }
 },
 "nbformat": 4,
 "nbformat_minor": 5
}
