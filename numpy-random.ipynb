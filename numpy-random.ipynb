{
 "cells": [
  {
   "cell_type": "markdown",
   "id": "543afed0-88f5-4cc9-8075-70d8bab410d4",
   "metadata": {},
   "source": [
    "# AN OVERVIEW OF THE NUMPY.RANDOM PACKAGE IN PYTHON\n",
    "\n",
    "<hr style=\"border:2px solid black\"> </hr>"
   ]
  },
  {
   "cell_type": "markdown",
   "id": "a7f93ed3-5871-43e4-90ba-87ecfaa45e8b",
   "metadata": {},
   "source": [
    "## INTRODUCTION\n",
    "<hr style=\"border:2px solid gray\"> </hr>\n",
    "\n",
    "This notebook contains a detail overview of the *numpy.random* package in python. It is explained how to use the package, but it also includes a detailed explanations of simple random data, permutations and some of the distributions provided for in the package. The aim of this notebook is to simplify the mentioned module explanation given on the [Official NumPy Manual website](https://numpy.org/doc/stable/reference/random/index.html).\n",
    "\n",
    "### CONTENTS\n",
    "***\n",
    "- [NUMPY](#NUMPY)\n",
    "    - [INSTALLATION](#INSTALLATION)\n",
    "    - [IMPORT](#IMPORT)\n",
    "- [NUMPY.RANDOM](#NUMPY.RANDOM)\n",
    "    - [SIMPLE RANDOM DATA](#SIMPLE_RANDOM_DATA)\n",
    "        - [integers](#integers)\n",
    "        - [random](#random)\n",
    "        - [choice](#choice)\n",
    "        - [bytes](#bytes)\n",
    "    - [PERMUTATIONS](#PERMUTATIONS)\n",
    "    - [DISTRIBUTIONS](#DISTRIBUTIONS)\n",
    "        - [1](#1)\n",
    "        - [2](#2)\n",
    "        - [3](#3)\n",
    "        - [4](#4)\n",
    "        - [5](#5)\n",
    "    - [SEEDS](#SEEDS)\n",
    "- [CONCLUSION](#CONCLUSION)\n",
    "- [REFERENCES](#REFERENCES)\n"
   ]
  },
  {
   "cell_type": "markdown",
   "id": "8099b628-44d6-4249-a7d4-e8f8be00abed",
   "metadata": {},
   "source": [
    "## NUMPY\n",
    "<hr style=\"border:2px solid gray\"> </hr>\n",
    "\n",
    "NumPy stands for Numerical Python and it is a core scientific computing library in Python. [1]. It is a provision for huge, multi-dimensional arrays and matrices, alongside an extra-large collection of high-level mathematical functions to work on these arrays.[2] It was created in 2005 by Travis Oliphant. It is an open source project, and the source code for NumPy is located at this github repository https://github.com/numpy/numpy. [3] "
   ]
  },
  {
   "cell_type": "markdown",
   "id": "bd491318-260e-4c76-9814-3539779132dd",
   "metadata": {},
   "source": [
    "### INSTALLATION\n",
    "***\n",
    "There are multiple ways to have *NumPy* library installed on your system, but the easiest way is to use a python distribution that already has NumPy installed - e.g. Anaconda. (https://docs.anaconda.com/anaconda/install/index.html)"
   ]
  },
  {
   "cell_type": "markdown",
   "id": "8ada16f1-ff30-4321-913b-e14c3d51baa8",
   "metadata": {},
   "source": [
    "### IMPORT\n",
    "***\n",
    "Numpy library is imported same as any other python library, using *import* command at the start of the program. Numpy is usually imported using *np* alias, which is used later in the program when reffering to the package."
   ]
  },
  {
   "cell_type": "code",
   "execution_count": 1,
   "id": "fac3f86f-e63f-477b-8a04-4a1e7b5e1266",
   "metadata": {},
   "outputs": [],
   "source": [
    "import numpy as np"
   ]
  },
  {
   "cell_type": "markdown",
   "id": "c9ac7993-3d99-4ba0-8f9a-f7ebeca22084",
   "metadata": {},
   "source": [
    "## NUMPY.RANDOM\n",
    "<hr style=\"border:2px solid gray\"> </hr>\n",
    "\n",
    "The *random* is a module present in the NumPy library. This module contains the functions which are used for generating random numbers. [4] Random number does not mean a different number every time. Random means something that can not be predicted logically. [6] *Random* module is based on pseudo-random number generation that means it is a mathematical way that generates a sequence of nearly random numbers. It is a combination of a bit generator and a generator. In Python, the random values are produced by the generator and originate in a Bit generator.[5]\n",
    "\n",
    "```\n",
    "numpy.random.default_rng()\n",
    "```\n",
    "Construct a new Generator with the default BitGenerator"
   ]
  },
  {
   "cell_type": "code",
   "execution_count": 2,
   "id": "b6f501a6-6cd8-4f04-90f9-816787cb52e7",
   "metadata": {},
   "outputs": [],
   "source": [
    "import matplotlib.pyplot as plt"
   ]
  },
  {
   "cell_type": "code",
   "execution_count": 3,
   "id": "2fa1c3c8-736b-4aba-8dff-f649aff984e3",
   "metadata": {},
   "outputs": [],
   "source": [
    "rng = np.random.default_rng()"
   ]
  },
  {
   "cell_type": "markdown",
   "id": "27270ac7-5a3b-4ef3-ab96-95eb68087e12",
   "metadata": {},
   "source": [
    "### SIMPLE RANDOM DATA <a id='SIMPLE_RANDOM_DATA'></a>\n",
    "***\n",
    "#### [**integers**](https://numpy.org/doc/stable/reference/random/generated/numpy.random.Generator.integers.html#numpy.random.Generator.integers) (low, high=None, size=None, dtype=np.int64, endpoint=False) \n",
    "\n",
    "Returns random integers in the specified range. ***low*** refers to the start of the range and it's inclusive. ***high*** is the end of the range and is by the default exclusive (end of range = *high* - 1). To inlcude *high* in the range, ***endpoint*** (*False* by default) has to be set up as *True*. If *high* is not specified then *low* is used as the end of the range. ***size*** defines the shape of the output and it can be one or multi-dimensional. ***dtype*** defines the dtype of the output, and it is *np.int64* by default. *Integers* returns radnom integers in \"discrete uniform\" distribution. A discrete uniform distribution is a statistical distribution where the probability of outcomes is equally likely and with finite values. [7]\n",
    "\n",
    "<br>\n",
    "\n",
    "Image 1. Array shape\n",
    "<center><img src=\"https://i.stack.imgur.com/NWTQH.png\" width=\"500\"/></center>"
   ]
  },
  {
   "cell_type": "markdown",
   "id": "b593f256-9659-41e7-89f9-133d3be643a8",
   "metadata": {},
   "source": [
    "##### EXAMPLES:\n",
    "***"
   ]
  },
  {
   "cell_type": "markdown",
   "id": "4b598fe3-b6a6-4e47-8f53-19c8ba8234b8",
   "metadata": {},
   "source": [
    "UNIFORM DISTRIBUTION OF RANDOM INTEGERS 10 - 1000000 (exclusive)"
   ]
  },
  {
   "cell_type": "code",
   "execution_count": 4,
   "id": "c015cfa2-7583-4e9b-9676-c1b89a80bb16",
   "metadata": {},
   "outputs": [
    {
     "name": "stdout",
     "output_type": "stream",
     "text": [
      "[85 82 92 ... 38 94 13]\n"
     ]
    },
    {
     "data": {
      "text/plain": [
       "(array([ 99993.,  99633., 100428., 100267., 100153., 100429.,  99746.,\n",
       "        100244.,  99669.,  99438.]),\n",
       " array([10. , 18.9, 27.8, 36.7, 45.6, 54.5, 63.4, 72.3, 81.2, 90.1, 99. ]),\n",
       " <BarContainer object of 10 artists>)"
      ]
     },
     "execution_count": 4,
     "metadata": {},
     "output_type": "execute_result"
    },
    {
     "data": {
      "image/png": "[encoded data removed]",
      "text/plain": [
       "<Figure size 432x288 with 1 Axes>"
      ]
     },
     "metadata": {
      "needs_background": "light"
     },
     "output_type": "display_data"
    }
   ],
   "source": [
    "x_int = (rng.integers(10, 100, size=1000000))\n",
    "print (x_int)\n",
    "plt.title(\"UNIFORM DISTRIBUTION OF RANDOM INTEGERS\")\n",
    "plt.xlabel(\"Integers\")\n",
    "plt.ylabel(\"Quantity\")\n",
    "plt.hist(x_int)"
   ]
  },
  {
   "cell_type": "markdown",
   "id": "a080eae6-c98c-4300-b365-a7bb3d9a96be",
   "metadata": {},
   "source": [
    "***"
   ]
  },
  {
   "cell_type": "markdown",
   "id": "f9644688-bd2b-4cca-a865-01deccbb38ff",
   "metadata": {},
   "source": [
    "RANDOM INTEGERS 0 TO 5 (exlusive)"
   ]
  },
  {
   "cell_type": "code",
   "execution_count": 5,
   "id": "3d26e1f7-77c0-4109-8a4b-6e521eb28b23",
   "metadata": {},
   "outputs": [
    {
     "name": "stdout",
     "output_type": "stream",
     "text": [
      "[1 0 0 2 2 4 1 2 4 2]\n"
     ]
    },
    {
     "data": {
      "text/plain": [
       "[<matplotlib.lines.Line2D at 0x14ed0266940>]"
      ]
     },
     "execution_count": 5,
     "metadata": {},
     "output_type": "execute_result"
    },
    {
     "data": {
      "image/png": "[encoded data removed]",
      "text/plain": [
       "<Figure size 432x288 with 1 Axes>"
      ]
     },
     "metadata": {
      "needs_background": "light"
     },
     "output_type": "display_data"
    }
   ],
   "source": [
    "x1_int = (rng.integers(5, size=10))\n",
    "print (x1_int)\n",
    "plt.title(\"RANDOM INTEGERS\")\n",
    "plt.xlabel(\"Integers\")\n",
    "plt.ylabel(\"Quantity\")\n",
    "plt.plot (x1_int, \"bo\")"
   ]
  },
  {
   "cell_type": "markdown",
   "id": "4f430489-1413-4545-874b-65a6036c186d",
   "metadata": {},
   "source": [
    "RANDOM INTEGERS 0 TO 5 (inclusive)"
   ]
  },
  {
   "cell_type": "markdown",
   "id": "cf07e100-63f0-4c8d-a932-6100d10f060b",
   "metadata": {},
   "source": [
    "***"
   ]
  },
  {
   "cell_type": "code",
   "execution_count": 6,
   "id": "f7d3bf87-e479-40e8-aecc-7f127c940188",
   "metadata": {},
   "outputs": [
    {
     "name": "stdout",
     "output_type": "stream",
     "text": [
      "[4 3 2 2 5 1 3 1 4 4 2 1 5 3 1 3 0 2 3 0 3 5 3 3 4 0 5 5 1 5 5 4 3 2 4 1 3\n",
      " 0 1 1 5 1 5 2 4 0 3 3 5 1]\n"
     ]
    },
    {
     "data": {
      "text/plain": [
       "[<matplotlib.lines.Line2D at 0x14ed02d8340>]"
      ]
     },
     "execution_count": 6,
     "metadata": {},
     "output_type": "execute_result"
    },
    {
     "data": {
      "image/png": "[encoded data removed]",
      "text/plain": [
       "<Figure size 432x288 with 1 Axes>"
      ]
     },
     "metadata": {
      "needs_background": "light"
     },
     "output_type": "display_data"
    }
   ],
   "source": [
    "x2_int = (rng.integers(5, size=50, endpoint = True))\n",
    "print(x2_int)\n",
    "plt.title(\"RANDOM INTEGERS\")\n",
    "plt.xlabel(\"Integers\")\n",
    "plt.ylabel(\"Quantity\")\n",
    "plt.plot (x2_int, \"bo\")"
   ]
  },
  {
   "cell_type": "markdown",
   "id": "3d9d3e42-77f5-4e2f-98d3-d09aba271192",
   "metadata": {},
   "source": [
    "***"
   ]
  },
  {
   "cell_type": "markdown",
   "id": "3a785cc5-2e46-49b2-9a3f-d84b4efa1a4e",
   "metadata": {},
   "source": [
    "RANDOM INTEGERS - 2D ARRAY"
   ]
  },
  {
   "cell_type": "code",
   "execution_count": 7,
   "id": "2831b16f-0032-4984-8e6d-5f853e33a368",
   "metadata": {},
   "outputs": [
    {
     "data": {
      "text/plain": [
       "array([[3, 4, 4, 3, 2, 3, 3, 3, 0, 4],\n",
       "       [2, 3, 4, 1, 0, 2, 0, 3, 2, 0],\n",
       "       [2, 4, 2, 2, 1, 1, 0, 4, 4, 1]], dtype=int64)"
      ]
     },
     "execution_count": 7,
     "metadata": {},
     "output_type": "execute_result"
    }
   ],
   "source": [
    "rng.integers(5, size=(3, 10))"
   ]
  },
  {
   "cell_type": "code",
   "execution_count": 8,
   "id": "22552abf-986f-4c01-9c3e-8dfd24a942ad",
   "metadata": {},
   "outputs": [
    {
     "name": "stdout",
     "output_type": "stream",
     "text": [
      "[[0 4 3 1 0 0 1 4 4 3]\n",
      " [2 2 2 2 3 0 4 1 4 2]\n",
      " [2 1 2 3 1 0 1 3 4 2]\n",
      " [2 3 1 0 4 4 4 2 3 0]\n",
      " [2 2 1 3 4 1 3 0 3 2]\n",
      " [0 4 0 4 3 1 0 2 4 4]\n",
      " [1 2 3 3 3 2 1 3 1 2]\n",
      " [0 1 3 0 3 3 1 3 3 4]\n",
      " [0 4 1 3 0 2 3 1 3 4]\n",
      " [2 1 0 0 4 1 1 4 1 4]]\n"
     ]
    },
    {
     "data": {
      "text/plain": [
       "<matplotlib.colorbar.Colorbar at 0x14ed0371580>"
      ]
     },
     "execution_count": 8,
     "metadata": {},
     "output_type": "execute_result"
    },
    {
     "data": {
      "image/png": "[encoded data removed]",
      "text/plain": [
       "<Figure size 432x288 with 2 Axes>"
      ]
     },
     "metadata": {
      "needs_background": "light"
     },
     "output_type": "display_data"
    }
   ],
   "source": [
    "x3_int = (rng.integers(5, size=(10, 10)))\n",
    "print (x3_int)\n",
    "plt.title(\"IMAGE OF A RANDOM 2D ARRAY\\n(visual represantation)\")\n",
    "plt.xlabel(\"Axis 1 - Column\")\n",
    "plt.ylabel(\"Axis 0 - Row\")\n",
    "plt.imshow (x3_int)\n",
    "color_map = plt.imshow(x3_int)\n",
    "color_map.set_cmap(\"Blues_r\")\n",
    "plt.colorbar()"
   ]
  },
  {
   "cell_type": "markdown",
   "id": "3a32debd-4ab8-460b-803f-5138de36ce3a",
   "metadata": {},
   "source": [
    "***"
   ]
  },
  {
   "cell_type": "markdown",
   "id": "4107bf03-4acf-4f88-9124-a968adecc269",
   "metadata": {},
   "source": [
    "RANDOM INTEGERS - 3D ARRAY"
   ]
  },
  {
   "cell_type": "code",
   "execution_count": 9,
   "id": "08f392f9-e2cb-4c3c-980d-f7cac5258b68",
   "metadata": {},
   "outputs": [
    {
     "name": "stdout",
     "output_type": "stream",
     "text": [
      "x =\n",
      " [[4 2 0 3 4]\n",
      " [4 6 5 1 5]\n",
      " [2 3 9 7 1]\n",
      " [9 9 1 1 5]\n",
      " [8 7 0 4 3]]\n",
      "y =\n",
      " [[7 3 9 1 7]\n",
      " [0 6 0 0 1]\n",
      " [7 5 1 4 7]\n",
      " [5 8 2 8 0]\n",
      " [1 5 5 5 2]]\n",
      "z =\n",
      " [[4 6 6 7 9]\n",
      " [5 1 4 4 2]\n",
      " [9 6 0 6 9]\n",
      " [9 5 4 9 3]\n",
      " [1 8 9 0 3]]\n"
     ]
    },
    {
     "data": {
      "text/plain": [
       "<mpl_toolkits.mplot3d.art3d.Path3DCollection at 0x14ed03fce50>"
      ]
     },
     "execution_count": 9,
     "metadata": {},
     "output_type": "execute_result"
    },
    {
     "data": {
      "image/png": "[encoded data removed]",
      "text/plain": [
       "<Figure size 432x288 with 1 Axes>"
      ]
     },
     "metadata": {
      "needs_background": "light"
     },
     "output_type": "display_data"
    }
   ],
   "source": [
    "# %matplotlib widget\n",
    "\n",
    "x4_int, y4_int, z4_int = (rng.integers(10, size=(3, 5, 5)))\n",
    "print (\"x =\\n\", x4_int)\n",
    "print (\"y =\\n\", y4_int)\n",
    "print (\"z =\\n\", z4_int)\n",
    "\n",
    "fig = plt.figure()\n",
    "ax = fig.add_subplot(111,  projection='3d')\n",
    "plt.title(\"RANDOM 3d ARRAY\\n(Interactive 3d Plot)\")\n",
    "ax.set_xlabel('x')\n",
    "ax.set_ylabel('y')\n",
    "ax.set_zlabel('z')\n",
    "ax.scatter(x4_int, y4_int, z4_int, c= 'blue')\n",
    "# plt.show()"
   ]
  },
  {
   "cell_type": "markdown",
   "id": "c5edef7d-b1a6-442b-a5ae-88f21380bb68",
   "metadata": {},
   "source": [
    "***"
   ]
  },
  {
   "cell_type": "markdown",
   "id": "fefcb6af-2938-4397-9823-1d8d8af39600",
   "metadata": {},
   "source": [
    "1 x 3 ARRAY WITH THREE DIFFERENT *high* VALUES"
   ]
  },
  {
   "cell_type": "code",
   "execution_count": 10,
   "id": "8734aec3-9c84-4daf-b38a-bdede458bd7a",
   "metadata": {},
   "outputs": [
    {
     "data": {
      "text/plain": [
       "array([ 4, 13, 16], dtype=int64)"
      ]
     },
     "execution_count": 10,
     "metadata": {},
     "output_type": "execute_result"
    }
   ],
   "source": [
    "rng.integers(1, [10, 50, 100])"
   ]
  },
  {
   "cell_type": "markdown",
   "id": "641e07ab-5a1b-46c7-965c-7a257362b4b2",
   "metadata": {},
   "source": [
    "***"
   ]
  },
  {
   "cell_type": "markdown",
   "id": "5d845dae-742e-4c1c-bed9-0c749c9ffab4",
   "metadata": {},
   "source": [
    "1 x 3 ARRAY WITH THREE DIFFERENT *low* VALUES"
   ]
  },
  {
   "cell_type": "code",
   "execution_count": 11,
   "id": "115264ac-2e2e-4387-a9b2-a4f3b930da69",
   "metadata": {},
   "outputs": [
    {
     "data": {
      "text/plain": [
       "array([84, 99, 93], dtype=int64)"
      ]
     },
     "execution_count": 11,
     "metadata": {},
     "output_type": "execute_result"
    }
   ],
   "source": [
    "rng.integers([1, 50, 90], 100)"
   ]
  },
  {
   "cell_type": "markdown",
   "id": "1c7f68ae-a070-43f6-880f-3ea6b29ed67e",
   "metadata": {},
   "source": [
    "***"
   ]
  },
  {
   "cell_type": "markdown",
   "id": "d63d60a8-4aa2-47f1-aac1-2f9d95ae5fb9",
   "metadata": {},
   "source": [
    "#### [**random**](https://numpy.org/doc/stable/reference/random/generated/numpy.random.Generator.random.html#numpy.random.Generator.random)(size=None, dtype=np.float64, out=None)\n",
    "\n",
    "Returns random floats in the interval higher or equal to 0.0 and less then 1.0. This interval is called half-open interval, where one of the endpoints are inclusive. ***size*** defines the output shape, which, if not specified, is none - single value is returned. ***dtype*** defines the dtype of the output and is *np.float64* by the default. Only *float64* and *float32* are supported. ***out*** ??\n",
    "*return* module can also be used for custom half-open intervals, e.g. if we want the output of a radnom float between a and b, we can do the following:\n",
    "> (b - a) * random() + a\n",
    "\n",
    "The outputs are from the “continuous uniform” distribution. A continuous uniform distribution (also referred to as rectangular distribution) is a statistical distribution with an infinite number of equally likely measurable values.[7]"
   ]
  },
  {
   "cell_type": "markdown",
   "id": "de583c2b-9e3a-4a8a-82a9-ca5de1a75a1f",
   "metadata": {},
   "source": [
    "##### EXAMPLES:\n",
    "***"
   ]
  },
  {
   "cell_type": "markdown",
   "id": "4f267cbd-7d8b-4771-9c8b-7366c162d632",
   "metadata": {},
   "source": [
    "UNIFORM DISTRIBUTION OF RANDOM INTEGERS FLOATS IN HALF OPEN INTERVAL (0,1]"
   ]
  },
  {
   "cell_type": "code",
   "execution_count": 12,
   "id": "6f395077-0149-425f-821d-8af8ca8c2963",
   "metadata": {},
   "outputs": [
    {
     "name": "stdout",
     "output_type": "stream",
     "text": [
      "[0.55472553 0.17321039 0.46067705 ... 0.90122615 0.34678594 0.34385267]\n"
     ]
    },
    {
     "data": {
      "text/plain": [
       "(array([100157., 100019.,  99497., 100225., 100015., 100039.,  99949.,\n",
       "         99840., 100006., 100253.]),\n",
       " array([2.14218037e-06, 1.00001831e-01, 2.00001520e-01, 3.00001208e-01,\n",
       "        4.00000897e-01, 5.00000586e-01, 6.00000275e-01, 6.99999963e-01,\n",
       "        7.99999652e-01, 8.99999341e-01, 9.99999029e-01]),\n",
       " <BarContainer object of 10 artists>)"
      ]
     },
     "execution_count": 12,
     "metadata": {},
     "output_type": "execute_result"
    },
    {
     "data": {
      "image/png": "[encoded data removed]",
      "text/plain": [
       "<Figure size 432x288 with 1 Axes>"
      ]
     },
     "metadata": {
      "needs_background": "light"
     },
     "output_type": "display_data"
    }
   ],
   "source": [
    "x_rand = (rng.random(1000000))\n",
    "print (x_rand)\n",
    "\n",
    "plt.title(\"UNIFORM DISTRIBUTION OF RANDOM FLOATS\")\n",
    "plt.xlabel(\"Floats\")\n",
    "plt.ylabel(\"Quantity\")\n",
    "plt.hist(x_rand)"
   ]
  },
  {
   "cell_type": "markdown",
   "id": "fb6d0892-c70a-4676-b72f-f2420850bbf8",
   "metadata": {},
   "source": [
    "***"
   ]
  },
  {
   "cell_type": "code",
   "execution_count": 13,
   "id": "42d295ee-059c-4992-a281-7e006862d9c9",
   "metadata": {},
   "outputs": [
    {
     "data": {
      "text/plain": [
       "0.7738920965252659"
      ]
     },
     "execution_count": 13,
     "metadata": {},
     "output_type": "execute_result"
    }
   ],
   "source": [
    "rng.random()"
   ]
  },
  {
   "cell_type": "markdown",
   "id": "b113bcec-2dd1-4ebd-8d08-d043ff5520a6",
   "metadata": {},
   "source": [
    "***"
   ]
  },
  {
   "cell_type": "markdown",
   "id": "dfa9fef0-7a11-4280-836f-187163000c4f",
   "metadata": {},
   "source": [
    "RANDOM FLOATS (0, 1]"
   ]
  },
  {
   "cell_type": "code",
   "execution_count": 115,
   "id": "31015d52-ccac-4383-98c4-d468f546a103",
   "metadata": {},
   "outputs": [
    {
     "name": "stdout",
     "output_type": "stream",
     "text": [
      "[[0.4764141  0.39375758 0.48255848 0.93885374 0.72391898]\n",
      " [0.92966982 0.30901172 0.56138464 0.91888492 0.42418726]\n",
      " [0.95982613 0.32993826 0.59109028 0.29848405 0.79107283]\n",
      " [0.53070853 0.23869746 0.06685452 0.31541559 0.48428927]\n",
      " [0.81337888 0.78474753 0.42347999 0.66890093 0.22443167]]\n"
     ]
    },
    {
     "data": {
      "text/plain": [
       "<matplotlib.colorbar.Colorbar at 0x14ed6d72340>"
      ]
     },
     "execution_count": 115,
     "metadata": {},
     "output_type": "execute_result"
    },
    {
     "data": {
      "image/png": "[encoded data removed]",
      "text/plain": [
       "<Figure size 432x288 with 2 Axes>"
      ]
     },
     "metadata": {
      "needs_background": "light"
     },
     "output_type": "display_data"
    }
   ],
   "source": [
    "x_rand = rng.random([5, 5])\n",
    "print(x_rand)\n",
    "plt.imshow(x_rand)\n",
    "color_map = plt.imshow(x_rand)\n",
    "color_map.set_cmap(\"Blues_r\")\n",
    "plt.colorbar()"
   ]
  },
  {
   "cell_type": "markdown",
   "id": "d83661ab-1a0f-4c63-8074-7466d1935e34",
   "metadata": {},
   "source": [
    "***"
   ]
  },
  {
   "cell_type": "markdown",
   "id": "4d2540d3-6ae3-4135-b55a-42fbe2870b55",
   "metadata": {},
   "source": [
    "RANDOM FLOATS (50 - 100]"
   ]
  },
  {
   "cell_type": "code",
   "execution_count": 45,
   "id": "e3d6cf3c-cfaa-4d15-a702-5964574360eb",
   "metadata": {},
   "outputs": [
    {
     "name": "stdout",
     "output_type": "stream",
     "text": [
      "[[58.18179152 77.46801368 54.93528468 95.93003883 82.72072424]\n",
      " [60.44869319 76.07162593 72.75053    64.26847888 75.91456952]\n",
      " [92.88263072 73.2481655  52.80126462 89.49263727 60.94401112]\n",
      " [59.31948313 85.97769235 86.04931894 50.48493738 88.64940717]\n",
      " [89.37564826 73.9747944  85.07937515 71.41495906 94.11764182]]\n"
     ]
    },
    {
     "data": {
      "text/plain": [
       "<matplotlib.colorbar.Colorbar at 0x14ed066c220>"
      ]
     },
     "execution_count": 45,
     "metadata": {},
     "output_type": "execute_result"
    },
    {
     "data": {
      "image/png": "[encoded data removed]",
      "text/plain": [
       "<Figure size 432x288 with 2 Axes>"
      ]
     },
     "metadata": {
      "needs_background": "light"
     },
     "output_type": "display_data"
    }
   ],
   "source": [
    "x1_rand = ((100-50) * rng.random((5, 5)) + 50)\n",
    "print(x1_rand)\n",
    "plt.imshow(x1_rand)\n",
    "color_map = plt.imshow(x1_rand)\n",
    "color_map.set_cmap(\"Blues_r\")\n",
    "plt.colorbar()"
   ]
  },
  {
   "cell_type": "markdown",
   "id": "ab164644-34cd-4b4a-bc81-5a88ae86c610",
   "metadata": {},
   "source": [
    "***"
   ]
  },
  {
   "cell_type": "markdown",
   "id": "998df0e9-06a7-4806-8703-672d7ecea379",
   "metadata": {},
   "source": [
    "ONE WITH out"
   ]
  },
  {
   "cell_type": "markdown",
   "id": "f0596920-24e8-4de3-b16d-54cc8677539a",
   "metadata": {},
   "source": [
    "***"
   ]
  },
  {
   "cell_type": "markdown",
   "id": "9b01b1cc-b05f-463a-b738-442e754c7aee",
   "metadata": {},
   "source": [
    "#### [**choice**](https://numpy.org/doc/stable/reference/random/generated/numpy.random.Generator.choice.html#numpy.random.Generator.choice) (a, size=None, replace=True, p=None, axis=0, shuffle=True)\n",
    "\n",
    "Generates a random sample from a given array. ***a*** sets the range from which the radnom sample gets generated. If *a* is an ndarray, the output is random selection of the elements of that array. If *a* is an integer, the output is random selection of a range from 0 - given integer (exclusive). ***size*** defines the shape of the output. It is *None* by default. If *a* has more than one dimension, the size shape will be inserted into the axis dimension. ***replace*** defines if the return will have repeated elements. It is *True* by default, meaning that a value of *a* can be selected multiple times. ***p*** is the probability of the entries in *a* to be selected. By default it is *None*, meaning the probibility is equal for all - uniform distribution. ***axis*** is axis along which the selection is performed, and is *0* by default. ***shuffle*** defines if the output is shuffled when sampling without replacement. Default is *True*.\n",
    "\n",
    "<br>\n",
    "\n",
    "Image 1. Axis\n",
    "<center><img src=\"https://i.stack.imgur.com/dcoE3.jpg\" width=\"500\"/></center>"
   ]
  },
  {
   "cell_type": "markdown",
   "id": "0e595083-53fb-48e0-a7e8-7228dc87e79b",
   "metadata": {},
   "source": [
    "##### EXAMPLES:\n",
    "***"
   ]
  },
  {
   "cell_type": "markdown",
   "id": "99ae2349-43f4-42e3-bacc-bccf00111331",
   "metadata": {},
   "source": [
    "UNIFORM DISTRIBUTION OF RANDOM INTEGERS CHOSEN IN RANGE (0 - 10]"
   ]
  },
  {
   "cell_type": "code",
   "execution_count": 49,
   "id": "2586a3bc-e578-4b9e-9125-3404acb2a7c1",
   "metadata": {},
   "outputs": [
    {
     "name": "stdout",
     "output_type": "stream",
     "text": [
      "[4 7 0 ... 3 2 5]\n"
     ]
    },
    {
     "data": {
      "text/plain": [
       "(array([ 99730., 100476., 100229.,  99810.,  99833.,  99609.,  99976.,\n",
       "        100209., 100214.,  99914.]),\n",
       " array([0. , 0.9, 1.8, 2.7, 3.6, 4.5, 5.4, 6.3, 7.2, 8.1, 9. ]),\n",
       " <BarContainer object of 10 artists>)"
      ]
     },
     "execution_count": 49,
     "metadata": {},
     "output_type": "execute_result"
    },
    {
     "data": {
      "image/png": "[encoded data removed]",
      "text/plain": [
       "<Figure size 432x288 with 1 Axes>"
      ]
     },
     "metadata": {
      "needs_background": "light"
     },
     "output_type": "display_data"
    }
   ],
   "source": [
    "x_ch = (rng.choice(10,1000000))\n",
    "print (x_ch)\n",
    "plt.hist (x_ch)"
   ]
  },
  {
   "cell_type": "markdown",
   "id": "190d07e9-4ed4-4bdf-acf1-817b61e34ddd",
   "metadata": {},
   "source": [
    "***"
   ]
  },
  {
   "cell_type": "markdown",
   "id": "3f054ef4-27c9-46d7-bbc8-a713e80bdacd",
   "metadata": {},
   "source": [
    "DISTRIBUTION OF RANDOM CHOSEN INTEGERS (1,3,5,7) WITH SET PROBABILITY"
   ]
  },
  {
   "cell_type": "code",
   "execution_count": 54,
   "id": "085dbdf7-058d-449c-b974-4a168c8f3a25",
   "metadata": {},
   "outputs": [
    {
     "name": "stdout",
     "output_type": "stream",
     "text": [
      "[3 5 3 ... 3 7 3]\n"
     ]
    },
    {
     "data": {
      "text/plain": [
       "(array([1008.,    0.,    0., 4975.,    0.,    0., 2505.,    0.,    0.,\n",
       "        1512.]),\n",
       " array([1. , 1.6, 2.2, 2.8, 3.4, 4. , 4.6, 5.2, 5.8, 6.4, 7. ]),\n",
       " <BarContainer object of 10 artists>)"
      ]
     },
     "execution_count": 54,
     "metadata": {},
     "output_type": "execute_result"
    },
    {
     "data": {
      "image/png": "[encoded data removed]",
      "text/plain": [
       "<Figure size 432x288 with 1 Axes>"
      ]
     },
     "metadata": {
      "needs_background": "light"
     },
     "output_type": "display_data"
    }
   ],
   "source": [
    "x1_ch = (rng.choice([1,3,5,7], 10000, p=[0.1, 0.5, 0.25, 0.15]))\n",
    "print (x1_ch)\n",
    "plt.hist (x1_ch)"
   ]
  },
  {
   "cell_type": "markdown",
   "id": "cd273822-7a8a-41b1-ab77-28f5ded7bb17",
   "metadata": {},
   "source": [
    "***"
   ]
  },
  {
   "cell_type": "code",
   "execution_count": 55,
   "id": "4dfcfeaf-36a7-47d1-bdc9-f6656221fa8b",
   "metadata": {},
   "outputs": [
    {
     "data": {
      "text/plain": [
       "29"
      ]
     },
     "execution_count": 55,
     "metadata": {},
     "output_type": "execute_result"
    }
   ],
   "source": [
    "rng.choice (100)"
   ]
  },
  {
   "cell_type": "markdown",
   "id": "b3fbdc2d-70ae-45fe-8fbe-97763346f724",
   "metadata": {},
   "source": [
    "***"
   ]
  },
  {
   "cell_type": "code",
   "execution_count": 92,
   "id": "4e7fa3fa-42b1-495d-9595-044810dbf87f",
   "metadata": {},
   "outputs": [
    {
     "name": "stdout",
     "output_type": "stream",
     "text": [
      "[1 6 8 2 1 6 8 2 8 8]\n"
     ]
    },
    {
     "data": {
      "text/plain": [
       "(array([2., 2., 0., 0., 0., 0., 0., 2., 0., 4.]),\n",
       " array([1. , 1.7, 2.4, 3.1, 3.8, 4.5, 5.2, 5.9, 6.6, 7.3, 8. ]),\n",
       " <BarContainer object of 10 artists>)"
      ]
     },
     "execution_count": 92,
     "metadata": {},
     "output_type": "execute_result"
    },
    {
     "data": {
      "image/png": "[encoded data removed]",
      "text/plain": [
       "<Figure size 432x288 with 1 Axes>"
      ]
     },
     "metadata": {
      "needs_background": "light"
     },
     "output_type": "display_data"
    }
   ],
   "source": [
    "x2_ch = (rng.choice(10, 10))\n",
    "print(x2_ch)\n",
    "plt.hist(x2_ch)"
   ]
  },
  {
   "cell_type": "markdown",
   "id": "69dbd30d-6f73-45d6-a280-78a9b2dfa62a",
   "metadata": {},
   "source": [
    "***"
   ]
  },
  {
   "cell_type": "code",
   "execution_count": 93,
   "id": "ef0a1f8e-3a08-4a87-b85d-ac1b288df032",
   "metadata": {},
   "outputs": [
    {
     "name": "stdout",
     "output_type": "stream",
     "text": [
      "[8 7 2 9 5 6 4 1 3 0]\n"
     ]
    },
    {
     "data": {
      "text/plain": [
       "(array([1., 1., 1., 1., 1., 1., 1., 1., 1., 1.]),\n",
       " array([0. , 0.9, 1.8, 2.7, 3.6, 4.5, 5.4, 6.3, 7.2, 8.1, 9. ]),\n",
       " <BarContainer object of 10 artists>)"
      ]
     },
     "execution_count": 93,
     "metadata": {},
     "output_type": "execute_result"
    },
    {
     "data": {
      "image/png": "[encoded data removed]",
      "text/plain": [
       "<Figure size 432x288 with 1 Axes>"
      ]
     },
     "metadata": {
      "needs_background": "light"
     },
     "output_type": "display_data"
    }
   ],
   "source": [
    "x3_ch = (rng.choice(10,10, replace=False))\n",
    "print(x3_ch)\n",
    "plt.hist(x3_ch)"
   ]
  },
  {
   "cell_type": "markdown",
   "id": "9150c267-9b2a-44e6-b76c-7432227178f8",
   "metadata": {},
   "source": [
    "***"
   ]
  },
  {
   "cell_type": "code",
   "execution_count": 23,
   "id": "03001903-e4fa-42a0-b7a2-b3e50d87c2ca",
   "metadata": {
    "tags": []
   },
   "outputs": [
    {
     "data": {
      "text/plain": [
       "array([[6, 7, 8],\n",
       "       [3, 4, 5],\n",
       "       [0, 1, 2],\n",
       "       [0, 1, 2]])"
      ]
     },
     "execution_count": 23,
     "metadata": {},
     "output_type": "execute_result"
    }
   ],
   "source": [
    "rng.choice([[0, 1, 2], [3, 4, 5], [6, 7, 8]], 4, replace=True)"
   ]
  },
  {
   "cell_type": "code",
   "execution_count": 24,
   "id": "47292be4-14d3-42b8-8621-0f7321f6be77",
   "metadata": {},
   "outputs": [
    {
     "data": {
      "text/plain": [
       "array(['red', 'black', 'red', 'blue', 'red', 'black', 'black', 'red',\n",
       "       'red', 'black'], dtype='<U6')"
      ]
     },
     "execution_count": 24,
     "metadata": {},
     "output_type": "execute_result"
    }
   ],
   "source": [
    "colors = ['red', 'blue', 'yellow', 'black']\n",
    "rng.choice(colors, 10, p=[0.5, 0.1, 0.1, 0.3])"
   ]
  },
  {
   "cell_type": "code",
   "execution_count": 25,
   "id": "6d0619be-f9d8-488a-af81-5ed38e5ac0c7",
   "metadata": {},
   "outputs": [
    {
     "data": {
      "text/plain": [
       "array([[10, 20, 30],\n",
       "       [ 1,  2,  3],\n",
       "       [ 1,  2,  3],\n",
       "       [ 1,  2,  3],\n",
       "       [ 1,  2,  3]])"
      ]
     },
     "execution_count": 25,
     "metadata": {},
     "output_type": "execute_result"
    }
   ],
   "source": [
    "rng.choice ([[1,2,3], [10,20,30], [100,200,300]],5, axis = 0)"
   ]
  },
  {
   "cell_type": "code",
   "execution_count": 26,
   "id": "412c4582-fb47-4e29-8ff1-3997a25a9197",
   "metadata": {},
   "outputs": [
    {
     "data": {
      "text/plain": [
       "array([[  1,   1,   1,   1,   3],\n",
       "       [ 10,  10,  10,  10,  30],\n",
       "       [100, 100, 100, 100, 300]])"
      ]
     },
     "execution_count": 26,
     "metadata": {},
     "output_type": "execute_result"
    }
   ],
   "source": [
    "rng.choice ([[1,2,3], [10,20,30], [100,200,300]],5, axis = 1)"
   ]
  },
  {
   "cell_type": "code",
   "execution_count": 27,
   "id": "940abfab-fbaf-4ef4-b401-16c132d89c2a",
   "metadata": {},
   "outputs": [
    {
     "data": {
      "text/plain": [
       "array([1, 8, 0, 4, 2, 6, 7, 5, 3, 9], dtype=int64)"
      ]
     },
     "execution_count": 27,
     "metadata": {},
     "output_type": "execute_result"
    }
   ],
   "source": [
    "rng.choice (10,10, replace = False, shuffle = True)"
   ]
  },
  {
   "cell_type": "code",
   "execution_count": 28,
   "id": "395aacce-8f89-4ac4-82d3-5679f66d4661",
   "metadata": {},
   "outputs": [
    {
     "data": {
      "text/plain": [
       "array([0, 1, 2, 3, 4, 5, 6, 7, 8, 9], dtype=int64)"
      ]
     },
     "execution_count": 28,
     "metadata": {},
     "output_type": "execute_result"
    }
   ],
   "source": [
    "rng.choice (10,10, replace = False, shuffle = False)"
   ]
  },
  {
   "cell_type": "markdown",
   "id": "66e01608-2de7-4296-8d0b-e0ae7f8c6a07",
   "metadata": {},
   "source": [
    "***"
   ]
  },
  {
   "cell_type": "code",
   "execution_count": null,
   "id": "36cfcb73-2990-45ef-a409-e9586c4038c2",
   "metadata": {},
   "outputs": [],
   "source": []
  },
  {
   "cell_type": "code",
   "execution_count": null,
   "id": "4b95cef9-008b-40a0-9164-d437371587a1",
   "metadata": {},
   "outputs": [],
   "source": []
  },
  {
   "cell_type": "code",
   "execution_count": 122,
   "id": "29af7c24-26f1-4368-bd17-9d26e6f56e8e",
   "metadata": {},
   "outputs": [
    {
     "data": {
      "text/plain": [
       "<matplotlib.colorbar.Colorbar at 0x14ed70972e0>"
      ]
     },
     "execution_count": 122,
     "metadata": {},
     "output_type": "execute_result"
    },
    {
     "data": {
      "image/png": "[encoded data removed]",
      "text/plain": [
       "<Figure size 432x288 with 2 Axes>"
      ]
     },
     "metadata": {
      "needs_background": "light"
     },
     "output_type": "display_data"
    }
   ],
   "source": [
    "b = (rng.choice (25,(5,5), replace = False, shuffle = False))\n",
    "plt.imshow(b)\n",
    "color_map = plt.imshow(b)\n",
    "color_map.set_cmap(\"Blues_r\")\n",
    "plt.colorbar()"
   ]
  },
  {
   "cell_type": "code",
   "execution_count": 123,
   "id": "078310f3-ac94-4b5d-b16c-62f4540f4046",
   "metadata": {},
   "outputs": [
    {
     "data": {
      "text/plain": [
       "<matplotlib.colorbar.Colorbar at 0x14ed71dcbb0>"
      ]
     },
     "execution_count": 123,
     "metadata": {},
     "output_type": "execute_result"
    },
    {
     "data": {
      "image/png": "[encoded data removed]",
      "text/plain": [
       "<Figure size 432x288 with 2 Axes>"
      ]
     },
     "metadata": {
      "needs_background": "light"
     },
     "output_type": "display_data"
    }
   ],
   "source": [
    "a = (rng.choice (25,(5,5), replace = False, shuffle = True))\n",
    "plt.imshow(a)\n",
    "color_map = plt.imshow(a)\n",
    "color_map.set_cmap(\"Blues_r\")\n",
    "plt.colorbar()"
   ]
  },
  {
   "cell_type": "markdown",
   "id": "fdc71663-aeb7-4540-b95f-d6a19b0bb52c",
   "metadata": {},
   "source": [
    "#### [**bytes**](https://numpy.org/doc/stable/reference/random/generated/numpy.random.Generator.bytes.html#numpy.random.Generator.bytes) (length)\n",
    "\n",
    "Genarates random bytes. The number of bytes is defined by ***length***."
   ]
  },
  {
   "cell_type": "markdown",
   "id": "893e533c-20ad-4403-b21f-83e0b11617af",
   "metadata": {},
   "source": [
    "##### EXAMPLES:\n",
    "***"
   ]
  },
  {
   "cell_type": "code",
   "execution_count": 29,
   "id": "ececbe17-1b64-4ad3-97ea-78aad9fdc974",
   "metadata": {},
   "outputs": [
    {
     "data": {
      "text/plain": [
       "b'\\x8d'"
      ]
     },
     "execution_count": 29,
     "metadata": {},
     "output_type": "execute_result"
    }
   ],
   "source": [
    "rng.bytes(1)"
   ]
  },
  {
   "cell_type": "code",
   "execution_count": 30,
   "id": "bab9a1fd-3321-4a2c-b45d-ed7cc91f2c27",
   "metadata": {},
   "outputs": [
    {
     "data": {
      "text/plain": [
       "b'\\xe7}\\xa0@&'"
      ]
     },
     "execution_count": 30,
     "metadata": {},
     "output_type": "execute_result"
    }
   ],
   "source": [
    "rng.bytes(5)"
   ]
  },
  {
   "cell_type": "markdown",
   "id": "ef386b95-5ef3-4b2a-a380-3cd4ffa4c310",
   "metadata": {},
   "source": [
    "***"
   ]
  },
  {
   "cell_type": "markdown",
   "id": "1447a836-7e15-4799-be48-b8cd8dcdd4e6",
   "metadata": {},
   "source": [
    "### PERMUTATIONS"
   ]
  },
  {
   "cell_type": "markdown",
   "id": "1d251a22-b668-4a58-981b-b285a8c1bea8",
   "metadata": {},
   "source": [
    "***"
   ]
  },
  {
   "cell_type": "code",
   "execution_count": null,
   "id": "c79a8396-2a6f-45e8-a538-d6966ced5b24",
   "metadata": {},
   "outputs": [],
   "source": []
  },
  {
   "cell_type": "code",
   "execution_count": null,
   "id": "bd8cfce0-acf1-49ae-924a-7861483df3b0",
   "metadata": {},
   "outputs": [],
   "source": []
  },
  {
   "cell_type": "code",
   "execution_count": null,
   "id": "67051b32-f940-420e-983c-c85483758899",
   "metadata": {},
   "outputs": [],
   "source": []
  },
  {
   "cell_type": "code",
   "execution_count": null,
   "id": "fb234bd7-7839-45ca-a527-4c3e7635cf12",
   "metadata": {},
   "outputs": [],
   "source": []
  },
  {
   "cell_type": "code",
   "execution_count": null,
   "id": "2077d855-2a9c-4fc1-9c58-5c2b8cc4e26d",
   "metadata": {},
   "outputs": [],
   "source": []
  },
  {
   "cell_type": "markdown",
   "id": "40072e1e-d2fc-4935-b2ec-02edd3346426",
   "metadata": {},
   "source": [
    "### DISTRIBUTIONS"
   ]
  },
  {
   "cell_type": "markdown",
   "id": "68cf1977-24a8-4793-bf20-ab7d029a9336",
   "metadata": {},
   "source": [
    "#### Distribution 1 "
   ]
  },
  {
   "cell_type": "markdown",
   "id": "ba9990d1-48a8-4c3c-b0cd-f8033491565b",
   "metadata": {},
   "source": [
    "#### Distribution 2"
   ]
  },
  {
   "cell_type": "markdown",
   "id": "3f753175-aef1-4fec-9471-a4c4669d9400",
   "metadata": {},
   "source": [
    "#### Distribution 3"
   ]
  },
  {
   "cell_type": "markdown",
   "id": "eef08e83-39e3-42c0-b5ce-2f2c423b286a",
   "metadata": {},
   "source": [
    "#### Distribution 4"
   ]
  },
  {
   "cell_type": "markdown",
   "id": "479f91a6-12b5-430b-b869-9d4bfd266095",
   "metadata": {},
   "source": [
    "#### Distribution 5"
   ]
  },
  {
   "cell_type": "markdown",
   "id": "d2b61b08-040e-4028-9ec5-86b81c3839b4",
   "metadata": {},
   "source": [
    "### SEEDS"
   ]
  },
  {
   "cell_type": "markdown",
   "id": "ac2df7a6-b246-466c-90a1-1601aee69539",
   "metadata": {},
   "source": [
    "## CONCLUSION\n",
    "***"
   ]
  },
  {
   "cell_type": "markdown",
   "id": "1cde162b-8cf2-4e00-a8db-361083332a03",
   "metadata": {},
   "source": [
    "## REFERENCES\n",
    "\n",
    "- [1] https://towardsdatascience.com/getting-started-with-numpy-59b22df56729\n",
    "- [2] https://python.plainenglish.io/what-are-basics-of-numpy-2afa9a9455cb\n",
    "- [3] https://www.w3schools.com/python/numpy/numpy_intro.asp\n",
    "- [4] https://www.javatpoint.com/numpy-random\n",
    "- [5] https://pythonguides.com/python-numpy-random/\n",
    "- [6] https://www.w3schools.com/python/numpy/numpy_random.asp\n",
    "- [7] https://corporatefinanceinstitute.com/resources/knowledge/other/uniform-distribution/"
   ]
  },
  {
   "cell_type": "markdown",
   "id": "af22aa3e-8690-41e9-ac5c-338967ac757e",
   "metadata": {},
   "source": [
    "## Links to check\n"
   ]
  },
  {
   "cell_type": "markdown",
   "id": "c0c38716-1e5c-4cf1-8528-cf4813b542af",
   "metadata": {},
   "source": [
    "- https://numpy.org/doc/stable/reference/random/index.html\n",
    "- https://www.w3schools.com/python/numpy/numpy_random.asp\n",
    "- https://www.geeksforgeeks.org/random-sampling-in-numpy-random-function/\n",
    "- https://www.javatpoint.com/numpy-random\n",
    "- https://pythonguides.com/python-numpy-random/\n",
    "- https://docs.scipy.org/doc/numpy-1.17.0/reference/random/generator.html\n",
    "- https://en.wikipedia.org/wiki/Discrete_uniform_distribution\n",
    "- https://en.wikipedia.org/wiki/Continuous_uniform_distribution\n",
    "- https://stackoverflow.com/questions/28080066/how-to-reference-a-ipython-notebook-cell-in-markdown"
   ]
  },
  {
   "cell_type": "markdown",
   "id": "e369ca8e-4743-4f8e-8242-a1962a705c28",
   "metadata": {},
   "source": []
  },
  {
   "cell_type": "code",
   "execution_count": null,
   "id": "7bc40a84-7df0-4938-bfa8-d64107dacd44",
   "metadata": {},
   "outputs": [],
   "source": []
  }
 ],
 "metadata": {
  "kernelspec": {
   "display_name": "Python 3",
   "language": "python",
   "name": "python3"
  },
  "language_info": {
   "codemirror_mode": {
    "name": "ipython",
    "version": 3
   },
   "file_extension": ".py",
   "mimetype": "text/x-python",
   "name": "python",
   "nbconvert_exporter": "python",
   "pygments_lexer": "ipython3",
   "version": "3.8.8"
  }
 },
 "nbformat": 4,
 "nbformat_minor": 5
}
