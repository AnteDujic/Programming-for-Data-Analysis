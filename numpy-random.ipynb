{
 "cells": [
  {
   "cell_type": "markdown",
   "id": "543afed0-88f5-4cc9-8075-70d8bab410d4",
   "metadata": {},
   "source": [
    "# AN OVERVIEW OF THE NUMPY.RANDOM PACKAGE IN PYTHON\n",
    "\n",
    "<hr style=\"border:2px solid black\"> </hr>"
   ]
  },
  {
   "cell_type": "markdown",
   "id": "a7f93ed3-5871-43e4-90ba-87ecfaa45e8b",
   "metadata": {},
   "source": [
    "## INTRODUCTION\n",
    "<hr style=\"border:2px solid gray\"> </hr>\n",
    "\n",
    "This notebook contains a detail overview of the *numpy.random* package in python. It is explained how to use the package, but it also includes a detailed explanations of simple random data, permutations and some of the distributions provided for in the package. The aim of this notebook is to simplify the mentioned module explanation given on the [Official NumPy Manual website](https://numpy.org/doc/stable/reference/random/index.html).\n",
    "\n",
    "### CONTENTS\n",
    "***\n",
    "- [NUMPY](#NUMPY)\n",
    "    - [INSTALLATION](#INSTALLATION)\n",
    "    - [IMPORT](#IMPORT)\n",
    "- [NUMPY.RANDOM](#NUMPY.RANDOM)\n",
    "    - [SIMPLE RANDOM DATA](#SIMPLE_RANDOM_DATA)\n",
    "        - [integers](#integers)\n",
    "        - [random](#random)\n",
    "        - [choice](#choice)\n",
    "        - [bytes](#bytes)\n",
    "    - [PERMUTATIONS](#PERMUTATIONS)\n",
    "        - [shuffle](#shuffle)\n",
    "        - [permutation](#permutation)\n",
    "        - [permuted](#permuted)\n",
    "    - [DISTRIBUTIONS](#DISTRIBUTIONS)\n",
    "        - [1](#1)\n",
    "        - [2](#2)\n",
    "        - [3](#3)\n",
    "        - [4](#4)\n",
    "        - [5](#5)\n",
    "    - [SEEDS](#SEEDS)\n",
    "- [CONCLUSION](#CONCLUSION)\n",
    "- [REFERENCES](#REFERENCES)\n"
   ]
  },
  {
   "cell_type": "markdown",
   "id": "8099b628-44d6-4249-a7d4-e8f8be00abed",
   "metadata": {},
   "source": [
    "## NUMPY\n",
    "<hr style=\"border:2px solid gray\"> </hr>\n",
    "\n",
    "NumPy stands for Numerical Python and it is a core scientific computing library in Python. [1]. It is a provision for huge, multi-dimensional arrays and matrices, alongside an extra-large collection of high-level mathematical functions to work on these arrays.[2] It was created in 2005 by Travis Oliphant. It is an open source project, and the source code for NumPy is located at this github repository https://github.com/numpy/numpy. [3] "
   ]
  },
  {
   "cell_type": "markdown",
   "id": "bd491318-260e-4c76-9814-3539779132dd",
   "metadata": {},
   "source": [
    "### INSTALLATION\n",
    "***\n",
    "There are multiple ways to have *NumPy* library installed on your system, but the easiest way is to use a python distribution that already has NumPy installed - e.g. Anaconda. (https://docs.anaconda.com/anaconda/install/index.html)"
   ]
  },
  {
   "cell_type": "markdown",
   "id": "8ada16f1-ff30-4321-913b-e14c3d51baa8",
   "metadata": {},
   "source": [
    "### IMPORT\n",
    "***\n",
    "Numpy library is imported same as any other python library, using *import* command at the start of the program. Numpy is usually imported using *np* alias, which is used later in the program when reffering to the package."
   ]
  },
  {
   "cell_type": "code",
   "execution_count": 1,
   "id": "fac3f86f-e63f-477b-8a04-4a1e7b5e1266",
   "metadata": {},
   "outputs": [],
   "source": [
    "import numpy as np"
   ]
  },
  {
   "cell_type": "markdown",
   "id": "c9ac7993-3d99-4ba0-8f9a-f7ebeca22084",
   "metadata": {},
   "source": [
    "## NUMPY.RANDOM\n",
    "<hr style=\"border:2px solid gray\"> </hr>\n",
    "\n",
    "The *random* is a module present in the NumPy library. This module contains the functions which are used for generating random numbers. [4] Random number does not mean a different number every time. Random means something that can not be predicted logically. [6] *Random* module is based on pseudo-random number generation that means it is a mathematical way that generates a sequence of nearly random numbers. It is a combination of a bit generator and a generator. In Python, the random values are produced by the generator and originate in a Bit generator.[5]\n",
    "\n",
    "```\n",
    "numpy.random.default_rng()\n",
    "```\n",
    "Construct a new Generator with the default BitGenerator"
   ]
  },
  {
   "cell_type": "code",
   "execution_count": 2,
   "id": "b6f501a6-6cd8-4f04-90f9-816787cb52e7",
   "metadata": {},
   "outputs": [],
   "source": [
    "import matplotlib.pyplot as plt"
   ]
  },
  {
   "cell_type": "code",
   "execution_count": 3,
   "id": "2fa1c3c8-736b-4aba-8dff-f649aff984e3",
   "metadata": {},
   "outputs": [],
   "source": [
    "rng = np.random.default_rng()"
   ]
  },
  {
   "cell_type": "markdown",
   "id": "27270ac7-5a3b-4ef3-ab96-95eb68087e12",
   "metadata": {},
   "source": [
    "### SIMPLE RANDOM DATA <a id='SIMPLE_RANDOM_DATA'></a>\n",
    "***\n",
    "#### [**integers**](https://numpy.org/doc/stable/reference/random/generated/numpy.random.Generator.integers.html#numpy.random.Generator.integers) (low, high=None, size=None, dtype=np.int64, endpoint=False) <a id='integers'></a>\n",
    "\n",
    "Returns random integers in the specified range. ***low*** refers to the start of the range and it's inclusive. ***high*** is the end of the range and is by the default exclusive (end of range = *high* - 1). To inlcude *high* in the range, ***endpoint*** (*False* by default) has to be set up as *True*. If *high* is not specified then *low* is used as the end of the range. ***size*** defines the shape of the output and it can be one or multi-dimensional. ***dtype*** defines the dtype of the output, and it is *np.int64* by default. *Integers* returns radnom integers in \"discrete uniform\" distribution. A discrete uniform distribution is a statistical distribution where the probability of outcomes is equally likely and with finite values. [7]\n",
    "\n",
    "<br>\n",
    "\n",
    "Image 1. Array shape\n",
    "<center><img src=\"https://i.stack.imgur.com/NWTQH.png\" width=\"500\"/></center>"
   ]
  },
  {
   "cell_type": "markdown",
   "id": "b593f256-9659-41e7-89f9-133d3be643a8",
   "metadata": {},
   "source": [
    "##### EXAMPLES:\n",
    "***"
   ]
  },
  {
   "cell_type": "markdown",
   "id": "4b598fe3-b6a6-4e47-8f53-19c8ba8234b8",
   "metadata": {},
   "source": [
    "UNIFORM DISTRIBUTION OF RANDOM INTEGERS 10 - 1000000 (exclusive)"
   ]
  },
  {
   "cell_type": "code",
   "execution_count": 4,
   "id": "c015cfa2-7583-4e9b-9676-c1b89a80bb16",
   "metadata": {},
   "outputs": [
    {
     "name": "stdout",
     "output_type": "stream",
     "text": [
      "Integers: [70 60 29 ... 57 70 76] \n",
      "\n"
     ]
    },
    {
     "data": {
      "image/png": "[encoded data removed]",
      "text/plain": [
       "<Figure size 432x288 with 1 Axes>"
      ]
     },
     "metadata": {
      "needs_background": "light"
     },
     "output_type": "display_data"
    }
   ],
   "source": [
    "x_int = (rng.integers(10, 100, size=1000000))\n",
    "print (\"Integers:\", x_int, \"\\n\")\n",
    "plt.title(\"UNIFORM DISTRIBUTION OF RANDOM INTEGERS\")\n",
    "plt.xlabel(\"Integers\")\n",
    "plt.ylabel(\"Quantity\")\n",
    "plt.hist(x_int)\n",
    "plt.show()"
   ]
  },
  {
   "cell_type": "markdown",
   "id": "a080eae6-c98c-4300-b365-a7bb3d9a96be",
   "metadata": {},
   "source": [
    "***"
   ]
  },
  {
   "cell_type": "markdown",
   "id": "f9644688-bd2b-4cca-a865-01deccbb38ff",
   "metadata": {},
   "source": [
    "RANDOM INTEGERS 0 - 5 (exlusive)"
   ]
  },
  {
   "cell_type": "code",
   "execution_count": 5,
   "id": "3d26e1f7-77c0-4109-8a4b-6e521eb28b23",
   "metadata": {},
   "outputs": [
    {
     "name": "stdout",
     "output_type": "stream",
     "text": [
      "Integers: [3 3 2 4 2 2 1 0 2 0] \n",
      "\n"
     ]
    },
    {
     "data": {
      "image/png": "[encoded data removed]",
      "text/plain": [
       "<Figure size 432x288 with 1 Axes>"
      ]
     },
     "metadata": {
      "needs_background": "light"
     },
     "output_type": "display_data"
    }
   ],
   "source": [
    "x1_int = (rng.integers(5, size=10))\n",
    "print (\"Integers:\", x1_int, \"\\n\")\n",
    "plt.title(\"RANDOM INTEGERS\")\n",
    "plt.xlabel(\"Integers\")\n",
    "plt.ylabel(\"Quantity\")\n",
    "plt.plot (x1_int, \"bo\")\n",
    "plt.show()"
   ]
  },
  {
   "cell_type": "markdown",
   "id": "cf07e100-63f0-4c8d-a932-6100d10f060b",
   "metadata": {},
   "source": [
    "***"
   ]
  },
  {
   "cell_type": "markdown",
   "id": "4f430489-1413-4545-874b-65a6036c186d",
   "metadata": {},
   "source": [
    "RANDOM INTEGERS 0 TO 5 (inclusive)"
   ]
  },
  {
   "cell_type": "code",
   "execution_count": 6,
   "id": "f7d3bf87-e479-40e8-aecc-7f127c940188",
   "metadata": {},
   "outputs": [
    {
     "name": "stdout",
     "output_type": "stream",
     "text": [
      "Integers: [5 3 0 2 2 4 2 2 1 1 1 3 2 4 5 5 1 5 5 5 0 3 4 0 4 3 5 0 5 0 4 0 0 2 3 2 3\n",
      " 4 0 2 2 4 2 4 0 1 5 4 1 0] \n",
      "\n"
     ]
    },
    {
     "data": {
      "image/png": "[encoded data removed]",
      "text/plain": [
       "<Figure size 432x288 with 1 Axes>"
      ]
     },
     "metadata": {
      "needs_background": "light"
     },
     "output_type": "display_data"
    }
   ],
   "source": [
    "x2_int = (rng.integers(5, size=50, endpoint = True))\n",
    "print(\"Integers:\", x2_int, \"\\n\")\n",
    "plt.title(\"RANDOM INTEGERS\")\n",
    "plt.xlabel(\"Integers\")\n",
    "plt.ylabel(\"Quantity\")\n",
    "plt.plot (x2_int, \"bo\")\n",
    "plt.show()"
   ]
  },
  {
   "cell_type": "markdown",
   "id": "3d9d3e42-77f5-4e2f-98d3-d09aba271192",
   "metadata": {},
   "source": [
    "***"
   ]
  },
  {
   "cell_type": "markdown",
   "id": "3a785cc5-2e46-49b2-9a3f-d84b4efa1a4e",
   "metadata": {},
   "source": [
    "RANDOM INTEGERS 0 - 5 (exclusive) - 2D ARRAY"
   ]
  },
  {
   "cell_type": "code",
   "execution_count": 7,
   "id": "22552abf-986f-4c01-9c3e-8dfd24a942ad",
   "metadata": {},
   "outputs": [
    {
     "name": "stdout",
     "output_type": "stream",
     "text": [
      "2D Array:\n",
      " [[2 1 4 1 1 3 4 4 0 0]\n",
      " [2 0 2 2 2 1 2 0 3 3]\n",
      " [1 0 0 2 0 1 1 1 0 2]\n",
      " [3 3 1 1 1 0 0 0 2 1]\n",
      " [4 0 3 4 3 2 3 1 2 0]\n",
      " [4 3 4 0 2 0 4 1 2 4]\n",
      " [4 1 2 3 1 2 2 1 0 2]\n",
      " [3 1 3 2 3 4 1 2 2 1]\n",
      " [1 4 3 1 4 2 4 1 0 4]\n",
      " [3 2 2 3 0 3 3 0 1 0]] \n",
      "\n"
     ]
    },
    {
     "data": {
      "image/png": "[encoded data removed]",
      "text/plain": [
       "<Figure size 432x288 with 2 Axes>"
      ]
     },
     "metadata": {
      "needs_background": "light"
     },
     "output_type": "display_data"
    }
   ],
   "source": [
    "x3_int = (rng.integers(5, size=(10, 10)))\n",
    "print (\"2D Array:\\n\", x3_int, \"\\n\")\n",
    "plt.title(\"IMAGE OF A RANDOM 2D ARRAY\\n(visual represantation)\")\n",
    "plt.xlabel(\"Axis 1 - Column\")\n",
    "plt.ylabel(\"Axis 0 - Row\")\n",
    "plt.imshow (x3_int)\n",
    "color_map = plt.imshow(x3_int)\n",
    "color_map.set_cmap(\"Blues_r\")\n",
    "plt.colorbar()\n",
    "plt.show()"
   ]
  },
  {
   "cell_type": "markdown",
   "id": "3a32debd-4ab8-460b-803f-5138de36ce3a",
   "metadata": {},
   "source": [
    "***"
   ]
  },
  {
   "cell_type": "markdown",
   "id": "4107bf03-4acf-4f88-9124-a968adecc269",
   "metadata": {},
   "source": [
    "RANDOM INTEGERS 0 - 10 (exclusive) - 3D ARRAY"
   ]
  },
  {
   "cell_type": "code",
   "execution_count": 8,
   "id": "08f392f9-e2cb-4c3c-980d-f7cac5258b68",
   "metadata": {},
   "outputs": [
    {
     "name": "stdout",
     "output_type": "stream",
     "text": [
      "3D Array:\n",
      "x =\n",
      " [[9 9 8 9 5]\n",
      " [6 9 0 1 1]\n",
      " [1 7 0 6 2]\n",
      " [6 3 7 4 4]\n",
      " [7 2 5 1 3]]\n",
      "y =\n",
      " [[8 1 1 1 3]\n",
      " [0 2 4 9 1]\n",
      " [6 9 7 5 1]\n",
      " [2 4 1 4 9]\n",
      " [3 2 7 1 6]]\n",
      "z =\n",
      " [[2 1 2 4 1]\n",
      " [8 8 1 1 5]\n",
      " [4 8 2 7 4]\n",
      " [0 6 6 7 7]\n",
      " [3 9 6 6 3]]\n"
     ]
    },
    {
     "data": {
      "image/png": "[encoded data removed]",
      "text/plain": [
       "<Figure size 432x288 with 1 Axes>"
      ]
     },
     "metadata": {
      "needs_background": "light"
     },
     "output_type": "display_data"
    }
   ],
   "source": [
    "# %matplotlib widget\n",
    "# %matplotlib inline\n",
    "\n",
    "x4_int, y4_int, z4_int = (rng.integers(10, size=(3,5,5)))\n",
    "print (\"3D Array:\")\n",
    "print (\"x =\\n\", x4_int)\n",
    "print (\"y =\\n\", y4_int)\n",
    "print (\"z =\\n\", z4_int)\n",
    "\n",
    "fig = plt.figure()\n",
    "ax = fig.add_subplot(projection='3d')\n",
    "plt.title(\"RANDOM 3d ARRAY\\n(Interactive 3d Plot)\")\n",
    "ax.set_xlabel('x')\n",
    "ax.set_ylabel('y')\n",
    "ax.set_zlabel('z')\n",
    "ax.scatter (x4_int, y4_int, z4_int, c= 'blue')\n",
    "plt.show()\n",
    "\n",
    "# %matplotlib qt"
   ]
  },
  {
   "cell_type": "markdown",
   "id": "c5edef7d-b1a6-442b-a5ae-88f21380bb68",
   "metadata": {},
   "source": [
    "***"
   ]
  },
  {
   "cell_type": "markdown",
   "id": "fefcb6af-2938-4397-9823-1d8d8af39600",
   "metadata": {},
   "source": [
    "ARRAY WITH THREE DIFFERENT *high* VALUES"
   ]
  },
  {
   "cell_type": "code",
   "execution_count": 9,
   "id": "8734aec3-9c84-4daf-b38a-bdede458bd7a",
   "metadata": {},
   "outputs": [
    {
     "data": {
      "text/plain": [
       "array([ 6, 37, 17], dtype=int64)"
      ]
     },
     "execution_count": 9,
     "metadata": {},
     "output_type": "execute_result"
    }
   ],
   "source": [
    "rng.integers(1, [10, 50, 100])"
   ]
  },
  {
   "cell_type": "markdown",
   "id": "641e07ab-5a1b-46c7-965c-7a257362b4b2",
   "metadata": {},
   "source": [
    "***"
   ]
  },
  {
   "cell_type": "markdown",
   "id": "5d845dae-742e-4c1c-bed9-0c749c9ffab4",
   "metadata": {},
   "source": [
    "ARRAY WITH THREE DIFFERENT *low* VALUES"
   ]
  },
  {
   "cell_type": "code",
   "execution_count": 10,
   "id": "115264ac-2e2e-4387-a9b2-a4f3b930da69",
   "metadata": {},
   "outputs": [
    {
     "data": {
      "text/plain": [
       "array([88, 70, 91], dtype=int64)"
      ]
     },
     "execution_count": 10,
     "metadata": {},
     "output_type": "execute_result"
    }
   ],
   "source": [
    "rng.integers([1, 50, 90], 100)"
   ]
  },
  {
   "cell_type": "markdown",
   "id": "1c7f68ae-a070-43f6-880f-3ea6b29ed67e",
   "metadata": {},
   "source": [
    "***"
   ]
  },
  {
   "cell_type": "markdown",
   "id": "d63d60a8-4aa2-47f1-aac1-2f9d95ae5fb9",
   "metadata": {},
   "source": [
    "#### [**random**](https://numpy.org/doc/stable/reference/random/generated/numpy.random.Generator.random.html#numpy.random.Generator.random)(size=None, dtype=np.float64, out=None) <a id='random'></a>\n",
    "\n",
    "Returns random floats in the interval higher or equal to 0.0 and less then 1.0. This interval is called half-open interval, where one of the endpoints are inclusive. ***size*** defines the output shape, which, if not specified, is none - single value is returned. ***dtype*** defines the dtype of the output and is *np.float64* by the default. Only *float64* and *float32* are supported. ***out*** ??\n",
    "*return* module can also be used for custom half-open intervals, e.g. if we want the output of a radnom float between a and b, we can do the following:\n",
    "> (b - a) * random() + a\n",
    "\n",
    "The outputs are from the “continuous uniform” distribution. A continuous uniform distribution (also referred to as rectangular distribution) is a statistical distribution with an infinite number of equally likely measurable values.[7]"
   ]
  },
  {
   "cell_type": "markdown",
   "id": "de583c2b-9e3a-4a8a-82a9-ca5de1a75a1f",
   "metadata": {},
   "source": [
    "##### EXAMPLES:\n",
    "***"
   ]
  },
  {
   "cell_type": "markdown",
   "id": "4f267cbd-7d8b-4771-9c8b-7366c162d632",
   "metadata": {},
   "source": [
    "UNIFORM DISTRIBUTION OF RANDOM INTEGERS FLOATS IN HALF OPEN INTERVAL (0,1]"
   ]
  },
  {
   "cell_type": "code",
   "execution_count": 11,
   "id": "6f395077-0149-425f-821d-8af8ca8c2963",
   "metadata": {},
   "outputs": [
    {
     "name": "stdout",
     "output_type": "stream",
     "text": [
      "Floats: [0.67879953 0.09065841 0.66263094 ... 0.43812061 0.4361729  0.82394455] \n",
      "\n"
     ]
    },
    {
     "data": {
      "image/png": "[encoded data removed]",
      "text/plain": [
       "<Figure size 432x288 with 1 Axes>"
      ]
     },
     "metadata": {
      "needs_background": "light"
     },
     "output_type": "display_data"
    }
   ],
   "source": [
    "x_rand = (rng.random(1000000))\n",
    "print (\"Floats:\", x_rand, \"\\n\")\n",
    "\n",
    "plt.title(\"UNIFORM DISTRIBUTION OF RANDOM FLOATS\")\n",
    "plt.xlabel(\"Floats\")\n",
    "plt.ylabel(\"Quantity\")\n",
    "plt.hist(x_rand)\n",
    "plt.show()"
   ]
  },
  {
   "cell_type": "markdown",
   "id": "fb6d0892-c70a-4676-b72f-f2420850bbf8",
   "metadata": {},
   "source": [
    "***"
   ]
  },
  {
   "cell_type": "code",
   "execution_count": 12,
   "id": "42d295ee-059c-4992-a281-7e006862d9c9",
   "metadata": {},
   "outputs": [
    {
     "data": {
      "text/plain": [
       "0.20665060161477256"
      ]
     },
     "execution_count": 12,
     "metadata": {},
     "output_type": "execute_result"
    }
   ],
   "source": [
    "rng.random()"
   ]
  },
  {
   "cell_type": "markdown",
   "id": "b113bcec-2dd1-4ebd-8d08-d043ff5520a6",
   "metadata": {},
   "source": [
    "***"
   ]
  },
  {
   "cell_type": "markdown",
   "id": "dfa9fef0-7a11-4280-836f-187163000c4f",
   "metadata": {},
   "source": [
    "RANDOM FLOATS (0, 1]"
   ]
  },
  {
   "cell_type": "code",
   "execution_count": 13,
   "id": "31015d52-ccac-4383-98c4-d468f546a103",
   "metadata": {},
   "outputs": [
    {
     "name": "stdout",
     "output_type": "stream",
     "text": [
      "2D Array:\n",
      " [[0.67341958 0.02825492 0.90930583 0.0230212  0.69639129]\n",
      " [0.46744829 0.87593614 0.51016234 0.08281391 0.01102271]\n",
      " [0.67720321 0.89261485 0.37289477 0.78100034 0.23981057]\n",
      " [0.69999972 0.35746516 0.81234129 0.1534773  0.53176581]\n",
      " [0.03750254 0.78179619 0.69915814 0.54971188 0.11729787]] \n",
      "\n"
     ]
    },
    {
     "data": {
      "image/png": "[encoded data removed]",
      "text/plain": [
       "<Figure size 432x288 with 2 Axes>"
      ]
     },
     "metadata": {
      "needs_background": "light"
     },
     "output_type": "display_data"
    }
   ],
   "source": [
    "x1_rand = rng.random([5, 5])\n",
    "print(\"2D Array:\\n\", x1_rand, \"\\n\")\n",
    "plt.imshow(x1_rand)\n",
    "plt.title(\"IMAGE OF A RANDOM 2D ARRAY\\n (0 - 1]\")\n",
    "plt.xlabel(\"Axis 1 - Column\")\n",
    "plt.ylabel(\"Axis 0 - Row\")\n",
    "color_map = plt.imshow(x1_rand)\n",
    "color_map.set_cmap(\"Blues_r\")\n",
    "plt.colorbar()\n",
    "plt.show()"
   ]
  },
  {
   "cell_type": "markdown",
   "id": "d83661ab-1a0f-4c63-8074-7466d1935e34",
   "metadata": {},
   "source": [
    "***"
   ]
  },
  {
   "cell_type": "markdown",
   "id": "4d2540d3-6ae3-4135-b55a-42fbe2870b55",
   "metadata": {},
   "source": [
    "RANDOM FLOATS (50 - 100]"
   ]
  },
  {
   "cell_type": "code",
   "execution_count": 14,
   "id": "e3d6cf3c-cfaa-4d15-a702-5964574360eb",
   "metadata": {},
   "outputs": [
    {
     "name": "stdout",
     "output_type": "stream",
     "text": [
      "2D Array:\n",
      " [[65.90746804 87.23321863 94.42285439 61.6892324  73.07605831]\n",
      " [93.79760279 79.7877394  66.0317229  99.7596512  76.6355082 ]\n",
      " [63.44838503 51.76590985 73.94759785 63.60548451 60.60471543]\n",
      " [76.43751558 98.15241215 57.2675555  98.31755527 83.53933044]\n",
      " [84.69494499 65.87468899 66.55685708 90.15522672 52.96047131]] \n",
      "\n"
     ]
    },
    {
     "data": {
      "image/png": "[encoded data removed]",
      "text/plain": [
       "<Figure size 432x288 with 2 Axes>"
      ]
     },
     "metadata": {
      "needs_background": "light"
     },
     "output_type": "display_data"
    }
   ],
   "source": [
    "x2_rand = ((100-50) * rng.random((5, 5)) + 50)\n",
    "print(\"2D Array:\\n\", x2_rand,\"\\n\")\n",
    "plt.imshow(x2_rand)\n",
    "plt.title(\"IMAGE OF A RANDOM 2D ARRAY\\n(50 - 100]\")\n",
    "plt.xlabel(\"Axis 1 - Column\")\n",
    "plt.ylabel(\"Axis 0 - Row\")\n",
    "color_map = plt.imshow(x2_rand)\n",
    "color_map.set_cmap(\"Blues_r\")\n",
    "plt.colorbar()\n",
    "plt.show()"
   ]
  },
  {
   "cell_type": "markdown",
   "id": "ab164644-34cd-4b4a-bc81-5a88ae86c610",
   "metadata": {},
   "source": [
    "***"
   ]
  },
  {
   "cell_type": "markdown",
   "id": "998df0e9-06a7-4806-8703-672d7ecea379",
   "metadata": {},
   "source": [
    "ONE WITH out"
   ]
  },
  {
   "cell_type": "markdown",
   "id": "f0596920-24e8-4de3-b16d-54cc8677539a",
   "metadata": {},
   "source": [
    "***"
   ]
  },
  {
   "cell_type": "markdown",
   "id": "9b01b1cc-b05f-463a-b738-442e754c7aee",
   "metadata": {},
   "source": [
    "#### [**choice**](https://numpy.org/doc/stable/reference/random/generated/numpy.random.Generator.choice.html#numpy.random.Generator.choice) (a, size=None, replace=True, p=None, axis=0, shuffle=True) <a id='choice'></a>\n",
    "\n",
    "Generates a random sample from a given array. ***a*** sets the range from which the radnom sample gets generated. If *a* is an ndarray, the output is random selection of the elements of that array. If *a* is an integer, the output is random selection of a range from 0 - given integer (exclusive). ***size*** defines the shape of the output. It is *None* by default. If *a* has more than one dimension, the size shape will be inserted into the axis dimension. ***replace*** defines if the return will have repeated elements. It is *True* by default, meaning that a value of *a* can be selected multiple times. ***p*** is the probability of the entries in *a* to be selected. By default it is *None*, meaning the probibility is equal for all - uniform distribution. ***axis*** is axis along which the selection is performed, and is *0* by default. ***shuffle*** defines if the output is shuffled when sampling without replacement. Default is *True*.\n",
    "\n",
    "<br>\n",
    "\n",
    "Image 1. Axis\n",
    "<center><img src=\"https://i.stack.imgur.com/dcoE3.jpg\" width=\"500\"/></center>"
   ]
  },
  {
   "cell_type": "markdown",
   "id": "0e595083-53fb-48e0-a7e8-7228dc87e79b",
   "metadata": {},
   "source": [
    "##### EXAMPLES:\n",
    "***"
   ]
  },
  {
   "cell_type": "markdown",
   "id": "99ae2349-43f4-42e3-bacc-bccf00111331",
   "metadata": {},
   "source": [
    "UNIFORM DISTRIBUTION OF RANDOM INTEGERS CHOSEN IN RANGE (0 - 10]"
   ]
  },
  {
   "cell_type": "code",
   "execution_count": 15,
   "id": "2586a3bc-e578-4b9e-9125-3404acb2a7c1",
   "metadata": {},
   "outputs": [
    {
     "name": "stdout",
     "output_type": "stream",
     "text": [
      "Integers: [4 1 5 ... 1 8 7] \n",
      "\n"
     ]
    },
    {
     "data": {
      "image/png": "[encoded data removed]",
      "text/plain": [
       "<Figure size 432x288 with 1 Axes>"
      ]
     },
     "metadata": {
      "needs_background": "light"
     },
     "output_type": "display_data"
    }
   ],
   "source": [
    "x_ch = (rng.choice(10,1000000))\n",
    "print (\"Integers:\", x_ch, \"\\n\")\n",
    "\n",
    "plt.title(\"UNIFORM DISTRIBUTION OF RANDOMLY CHOSEN INTEGERS\\n (0 - 10]\")\n",
    "plt.xlabel(\"Integers\")\n",
    "plt.ylabel(\"Quantity\")\n",
    "plt.hist (x_ch)\n",
    "plt.show()"
   ]
  },
  {
   "cell_type": "markdown",
   "id": "190d07e9-4ed4-4bdf-acf1-817b61e34ddd",
   "metadata": {},
   "source": [
    "***"
   ]
  },
  {
   "cell_type": "markdown",
   "id": "3f054ef4-27c9-46d7-bbc8-a713e80bdacd",
   "metadata": {},
   "source": [
    "DISTRIBUTION OF RANDOM CHOSEN INTEGERS (1,3,5,7) WITH SET PROBABILITY"
   ]
  },
  {
   "cell_type": "code",
   "execution_count": 16,
   "id": "085dbdf7-058d-449c-b974-4a168c8f3a25",
   "metadata": {},
   "outputs": [
    {
     "name": "stdout",
     "output_type": "stream",
     "text": [
      "Integers: [3 1 3 ... 3 5 5] \n",
      "\n"
     ]
    },
    {
     "data": {
      "image/png": "[encoded data removed]",
      "text/plain": [
       "<Figure size 432x288 with 1 Axes>"
      ]
     },
     "metadata": {
      "needs_background": "light"
     },
     "output_type": "display_data"
    }
   ],
   "source": [
    "x1_ch = (rng.choice([1,3,5,7], 1000000, p=[0.1, 0.5, 0.25, 0.15]))\n",
    "print (\"Integers:\", x1_ch, \"\\n\")\n",
    "\n",
    "plt.title(\"UNIFORM DISTRIBUTION OF RANDOMLY CHOSEN INTEGERS\\n(1,3,5,7]\\nWITH SET PROBABILITY \")\n",
    "plt.xlabel(\"Integers\")\n",
    "plt.ylabel(\"Quantity\")\n",
    "plt.hist (x1_ch)\n",
    "plt.show()"
   ]
  },
  {
   "cell_type": "markdown",
   "id": "cd273822-7a8a-41b1-ab77-28f5ded7bb17",
   "metadata": {},
   "source": [
    "***"
   ]
  },
  {
   "cell_type": "code",
   "execution_count": 17,
   "id": "4dfcfeaf-36a7-47d1-bdc9-f6656221fa8b",
   "metadata": {},
   "outputs": [
    {
     "data": {
      "text/plain": [
       "49"
      ]
     },
     "execution_count": 17,
     "metadata": {},
     "output_type": "execute_result"
    }
   ],
   "source": [
    "rng.choice (100)"
   ]
  },
  {
   "cell_type": "markdown",
   "id": "b3fbdc2d-70ae-45fe-8fbe-97763346f724",
   "metadata": {},
   "source": [
    "***"
   ]
  },
  {
   "cell_type": "code",
   "execution_count": 18,
   "id": "4e7fa3fa-42b1-495d-9595-044810dbf87f",
   "metadata": {},
   "outputs": [
    {
     "name": "stdout",
     "output_type": "stream",
     "text": [
      "Integers: [2 1 7 8 7 5 6 1 4 3] \n",
      "\n"
     ]
    },
    {
     "data": {
      "image/png": "[encoded data removed]",
      "text/plain": [
       "<Figure size 432x288 with 1 Axes>"
      ]
     },
     "metadata": {
      "needs_background": "light"
     },
     "output_type": "display_data"
    }
   ],
   "source": [
    "x2_ch = (rng.choice(10, 10))\n",
    "print(\"Integers:\", x2_ch, \"\\n\")\n",
    "\n",
    "plt.title(\"DISTRIBUTION OF RANDOMLY CHOSEN INTEGERS (0 - 10]\\n WITH REPEATING ELEMENTS\")\n",
    "plt.xlabel(\"Integers\")\n",
    "plt.ylabel(\"Quantity\")\n",
    "plt.hist(x2_ch)\n",
    "plt.show()"
   ]
  },
  {
   "cell_type": "markdown",
   "id": "69dbd30d-6f73-45d6-a280-78a9b2dfa62a",
   "metadata": {},
   "source": [
    "***"
   ]
  },
  {
   "cell_type": "code",
   "execution_count": 19,
   "id": "ef0a1f8e-3a08-4a87-b85d-ac1b288df032",
   "metadata": {},
   "outputs": [
    {
     "name": "stdout",
     "output_type": "stream",
     "text": [
      "Integers: [4 9 8 5 3 6 0 2 1 7] \n",
      "\n"
     ]
    },
    {
     "data": {
      "image/png": "[encoded data removed]",
      "text/plain": [
       "<Figure size 432x288 with 1 Axes>"
      ]
     },
     "metadata": {
      "needs_background": "light"
     },
     "output_type": "display_data"
    }
   ],
   "source": [
    "x3_ch = (rng.choice(10,10, replace=False))\n",
    "print(\"Integers:\", x3_ch, \"\\n\")\n",
    "\n",
    "plt.title(\"DISTRIBUTION OF RANDOMLY CHOSEN INTEGERS (0 - 10]\\n WITH NONE REPEATING ELEMENTS\")\n",
    "plt.xlabel(\"Integers\")\n",
    "plt.ylabel(\"Quantity\")\n",
    "plt.hist(x3_ch)\n",
    "plt.show()"
   ]
  },
  {
   "cell_type": "markdown",
   "id": "9150c267-9b2a-44e6-b76c-7432227178f8",
   "metadata": {},
   "source": [
    "***"
   ]
  },
  {
   "cell_type": "code",
   "execution_count": 20,
   "id": "03001903-e4fa-42a0-b7a2-b3e50d87c2ca",
   "metadata": {
    "tags": []
   },
   "outputs": [
    {
     "data": {
      "text/plain": [
       "array([[3, 4, 5],\n",
       "       [6, 7, 8],\n",
       "       [3, 4, 5],\n",
       "       [0, 1, 2]])"
      ]
     },
     "execution_count": 20,
     "metadata": {},
     "output_type": "execute_result"
    }
   ],
   "source": [
    "rng.choice([[0, 1, 2], [3, 4, 5], [6, 7, 8]], 4, replace=True)"
   ]
  },
  {
   "cell_type": "markdown",
   "id": "f883c186-66ef-4134-b40d-a3f673bd4bbf",
   "metadata": {},
   "source": [
    "***"
   ]
  },
  {
   "cell_type": "code",
   "execution_count": 21,
   "id": "47292be4-14d3-42b8-8621-0f7321f6be77",
   "metadata": {},
   "outputs": [
    {
     "data": {
      "text/plain": [
       "array(['blue', 'red', 'red', 'black', 'red', 'red', 'red', 'red', 'black',\n",
       "       'red'], dtype='<U6')"
      ]
     },
     "execution_count": 21,
     "metadata": {},
     "output_type": "execute_result"
    }
   ],
   "source": [
    "colors = ['red', 'blue', 'yellow', 'black']\n",
    "rng.choice(colors, 10, p=[0.5, 0.1, 0.1, 0.3])"
   ]
  },
  {
   "cell_type": "markdown",
   "id": "7ea5a24e-3a08-4444-befb-d4d75dc1ae6b",
   "metadata": {},
   "source": [
    "***"
   ]
  },
  {
   "cell_type": "code",
   "execution_count": 22,
   "id": "6d0619be-f9d8-488a-af81-5ed38e5ac0c7",
   "metadata": {},
   "outputs": [
    {
     "data": {
      "text/plain": [
       "array([[100, 200, 300],\n",
       "       [ 10,  20,  30],\n",
       "       [100, 200, 300],\n",
       "       [ 10,  20,  30],\n",
       "       [ 10,  20,  30]])"
      ]
     },
     "execution_count": 22,
     "metadata": {},
     "output_type": "execute_result"
    }
   ],
   "source": [
    "rng.choice ([[1,2,3], [10,20,30], [100,200,300]],5, axis = 0)"
   ]
  },
  {
   "cell_type": "markdown",
   "id": "1eab0e29-595b-47d1-bc79-fb6ddfa9b7c8",
   "metadata": {},
   "source": [
    "***"
   ]
  },
  {
   "cell_type": "code",
   "execution_count": 23,
   "id": "412c4582-fb47-4e29-8ff1-3997a25a9197",
   "metadata": {},
   "outputs": [
    {
     "data": {
      "text/plain": [
       "array([[  1,   1,   3,   1,   3],\n",
       "       [ 10,  10,  30,  10,  30],\n",
       "       [100, 100, 300, 100, 300]])"
      ]
     },
     "execution_count": 23,
     "metadata": {},
     "output_type": "execute_result"
    }
   ],
   "source": [
    "rng.choice ([[1,2,3], [10,20,30], [100,200,300]],5, axis = 1)"
   ]
  },
  {
   "cell_type": "markdown",
   "id": "c3a6cb4c-1a32-4016-8b30-10ce92d5b428",
   "metadata": {},
   "source": [
    "***"
   ]
  },
  {
   "cell_type": "code",
   "execution_count": 24,
   "id": "940abfab-fbaf-4ef4-b401-16c132d89c2a",
   "metadata": {},
   "outputs": [
    {
     "data": {
      "text/plain": [
       "array([6, 4, 1, 0, 3, 7, 9, 5, 8, 2], dtype=int64)"
      ]
     },
     "execution_count": 24,
     "metadata": {},
     "output_type": "execute_result"
    }
   ],
   "source": [
    "rng.choice (10,10, replace = False, shuffle = True)"
   ]
  },
  {
   "cell_type": "markdown",
   "id": "a4296ae4-140e-439d-9651-09f256620465",
   "metadata": {},
   "source": [
    "***"
   ]
  },
  {
   "cell_type": "code",
   "execution_count": 25,
   "id": "395aacce-8f89-4ac4-82d3-5679f66d4661",
   "metadata": {},
   "outputs": [
    {
     "data": {
      "text/plain": [
       "array([0, 1, 2, 3, 4, 5, 6, 7, 8, 9], dtype=int64)"
      ]
     },
     "execution_count": 25,
     "metadata": {},
     "output_type": "execute_result"
    }
   ],
   "source": [
    "rng.choice (10,10, replace = False, shuffle = False)"
   ]
  },
  {
   "cell_type": "markdown",
   "id": "66e01608-2de7-4296-8d0b-e0ae7f8c6a07",
   "metadata": {},
   "source": [
    "***"
   ]
  },
  {
   "cell_type": "code",
   "execution_count": 26,
   "id": "29af7c24-26f1-4368-bd17-9d26e6f56e8e",
   "metadata": {},
   "outputs": [
    {
     "name": "stdout",
     "output_type": "stream",
     "text": [
      "2D Array:\n",
      " [[ 0  1  2  3  4]\n",
      " [ 5  6  7  8  9]\n",
      " [10 11 12 13 14]\n",
      " [15 16 17 18 19]\n",
      " [20 21 22 23 24]] \n",
      "\n"
     ]
    },
    {
     "data": {
      "image/png": "[encoded data removed]",
      "text/plain": [
       "<Figure size 432x288 with 2 Axes>"
      ]
     },
     "metadata": {
      "needs_background": "light"
     },
     "output_type": "display_data"
    }
   ],
   "source": [
    "b = (rng.choice (25,(5,5), replace = False, shuffle = False))\n",
    "print(\"2D Array:\\n\", b, \"\\n\")\n",
    "plt.title(\"Title\")\n",
    "plt.xlabel(\"Axis 1 - Column\")\n",
    "plt.ylabel(\"Axis 0 - Row\")\n",
    "plt.imshow(b)\n",
    "color_map = plt.imshow(b)\n",
    "color_map.set_cmap(\"Blues_r\")\n",
    "plt.colorbar()\n",
    "plt.show()"
   ]
  },
  {
   "cell_type": "markdown",
   "id": "1a268ee8-0bf9-4d32-9431-2d88ea6c4801",
   "metadata": {},
   "source": [
    "***"
   ]
  },
  {
   "cell_type": "code",
   "execution_count": 27,
   "id": "078310f3-ac94-4b5d-b16c-62f4540f4046",
   "metadata": {},
   "outputs": [
    {
     "name": "stdout",
     "output_type": "stream",
     "text": [
      "2D Array:\n",
      " [[22 21  9 12  0]\n",
      " [15 18  5  3 19]\n",
      " [20 16  6 23 13]\n",
      " [10  2  4 11  1]\n",
      " [ 7 14 17 24  8]] \n",
      "\n"
     ]
    },
    {
     "data": {
      "image/png": "[encoded data removed]",
      "text/plain": [
       "<Figure size 432x288 with 2 Axes>"
      ]
     },
     "metadata": {
      "needs_background": "light"
     },
     "output_type": "display_data"
    }
   ],
   "source": [
    "a = (rng.choice (25,(5,5), replace = False, shuffle = True))\n",
    "print(\"2D Array:\\n\", a, \"\\n\")\n",
    "plt.title(\"Title\")\n",
    "plt.xlabel(\"Axis 1 - Column\")\n",
    "plt.ylabel(\"Axis 0 - Row\")\n",
    "plt.imshow(a)\n",
    "color_map = plt.imshow(a)\n",
    "color_map.set_cmap(\"Blues_r\")\n",
    "plt.colorbar()\n",
    "plt.show()"
   ]
  },
  {
   "cell_type": "markdown",
   "id": "fdc71663-aeb7-4540-b95f-d6a19b0bb52c",
   "metadata": {},
   "source": [
    "#### [**bytes**](https://numpy.org/doc/stable/reference/random/generated/numpy.random.Generator.bytes.html#numpy.random.Generator.bytes) (length) <a id='bytes'></a>\n",
    "\n",
    "Genarates random bytes. The number of bytes is defined by ***length***."
   ]
  },
  {
   "cell_type": "markdown",
   "id": "893e533c-20ad-4403-b21f-83e0b11617af",
   "metadata": {},
   "source": [
    "##### EXAMPLES:\n",
    "***"
   ]
  },
  {
   "cell_type": "code",
   "execution_count": 28,
   "id": "ececbe17-1b64-4ad3-97ea-78aad9fdc974",
   "metadata": {},
   "outputs": [
    {
     "data": {
      "text/plain": [
       "b'9'"
      ]
     },
     "execution_count": 28,
     "metadata": {},
     "output_type": "execute_result"
    }
   ],
   "source": [
    "rng.bytes(1)"
   ]
  },
  {
   "cell_type": "markdown",
   "id": "cce5e8cb-8281-40f3-a9c1-70358cc7592e",
   "metadata": {},
   "source": [
    "***"
   ]
  },
  {
   "cell_type": "code",
   "execution_count": 29,
   "id": "bab9a1fd-3321-4a2c-b45d-ed7cc91f2c27",
   "metadata": {},
   "outputs": [
    {
     "data": {
      "text/plain": [
       "b'(\\xf9\\x97`v'"
      ]
     },
     "execution_count": 29,
     "metadata": {},
     "output_type": "execute_result"
    }
   ],
   "source": [
    "rng.bytes(5)"
   ]
  },
  {
   "cell_type": "markdown",
   "id": "ef386b95-5ef3-4b2a-a380-3cd4ffa4c310",
   "metadata": {},
   "source": [
    "***"
   ]
  },
  {
   "cell_type": "markdown",
   "id": "1447a836-7e15-4799-be48-b8cd8dcdd4e6",
   "metadata": {},
   "source": [
    "### PERMUTATIONS"
   ]
  },
  {
   "cell_type": "markdown",
   "id": "1d251a22-b668-4a58-981b-b285a8c1bea8",
   "metadata": {},
   "source": [
    "***"
   ]
  },
  {
   "cell_type": "markdown",
   "id": "b0a66149-fd30-4e5d-ac19-ba9aee504f2b",
   "metadata": {},
   "source": [
    "#### [**shuffle**](https://numpy.org/doc/stable/reference/random/generated/numpy.random.Generator.shuffle.html#numpy.random.Generator.shuffle) (x, axis=0)"
   ]
  },
  {
   "cell_type": "markdown",
   "id": "11b4d044-7922-49eb-91c9-3f4bf0a522e0",
   "metadata": {},
   "source": [
    "##### EXAMPLES:\n",
    "***"
   ]
  },
  {
   "cell_type": "code",
   "execution_count": 74,
   "id": "bd8cfce0-acf1-49ae-924a-7861483df3b0",
   "metadata": {},
   "outputs": [
    {
     "name": "stdout",
     "output_type": "stream",
     "text": [
      "[8 9 6 7 3 0 2 5 1 4]\n"
     ]
    },
    {
     "data": {
      "image/png": "[encoded data removed]",
      "text/plain": [
       "<Figure size 432x288 with 1 Axes>"
      ]
     },
     "metadata": {
      "needs_background": "light"
     },
     "output_type": "display_data"
    }
   ],
   "source": [
    "x_sh = np.arange(10)\n",
    "rng.shuffle(x_sh)\n",
    "print (x_sh)\n",
    "plt.hist(x_sh)\n",
    "plt.show()"
   ]
  },
  {
   "cell_type": "markdown",
   "id": "faf8f466-c73a-4370-a846-1f4dbc32854e",
   "metadata": {},
   "source": [
    "***"
   ]
  },
  {
   "cell_type": "code",
   "execution_count": 126,
   "id": "67051b32-f940-420e-983c-c85483758899",
   "metadata": {},
   "outputs": [
    {
     "name": "stdout",
     "output_type": "stream",
     "text": [
      "[[[ 0  1  2]\n",
      "  [ 3  4  5]\n",
      "  [ 6  7  8]]\n",
      "\n",
      " [[18 19 20]\n",
      "  [21 22 23]\n",
      "  [24 25 26]]\n",
      "\n",
      " [[ 9 10 11]\n",
      "  [12 13 14]\n",
      "  [15 16 17]]]\n"
     ]
    }
   ],
   "source": [
    "x1_sh = np.arange(27).reshape((3, 3, 3))\n",
    "rng.shuffle(x1_sh)\n",
    "print(x1_sh)"
   ]
  },
  {
   "cell_type": "markdown",
   "id": "0865e06e-a2cb-42b4-af5e-745c41f52d32",
   "metadata": {},
   "source": [
    "***"
   ]
  },
  {
   "cell_type": "code",
   "execution_count": 134,
   "id": "51647f72-2557-401a-86e2-402b7d2c258a",
   "metadata": {},
   "outputs": [
    {
     "name": "stdout",
     "output_type": "stream",
     "text": [
      "[[[ 3  4  5]\n",
      "  [ 0  1  2]\n",
      "  [ 6  7  8]]\n",
      "\n",
      " [[12 13 14]\n",
      "  [ 9 10 11]\n",
      "  [15 16 17]]\n",
      "\n",
      " [[21 22 23]\n",
      "  [18 19 20]\n",
      "  [24 25 26]]]\n"
     ]
    }
   ],
   "source": [
    "x2_sh = np.arange(27).reshape((3, 3, 3))\n",
    "rng.shuffle(x2_sh, axis = 1)\n",
    "print(x2_sh)"
   ]
  },
  {
   "cell_type": "markdown",
   "id": "a4aa1a6e-529f-41e8-865f-c021a93cbfab",
   "metadata": {},
   "source": [
    "***"
   ]
  },
  {
   "cell_type": "code",
   "execution_count": 148,
   "id": "7120c9e5-805e-4ba5-9da5-a0b35ce59e0f",
   "metadata": {},
   "outputs": [
    {
     "name": "stdout",
     "output_type": "stream",
     "text": [
      "[[[ 2  0  1]\n",
      "  [ 5  3  4]\n",
      "  [ 8  6  7]]\n",
      "\n",
      " [[11  9 10]\n",
      "  [14 12 13]\n",
      "  [17 15 16]]\n",
      "\n",
      " [[20 18 19]\n",
      "  [23 21 22]\n",
      "  [26 24 25]]]\n"
     ]
    }
   ],
   "source": [
    "x3_sh = np.arange(27).reshape((3, 3, 3))\n",
    "rng.shuffle(x3_sh, axis = 2)\n",
    "print(x3_sh)"
   ]
  },
  {
   "cell_type": "code",
   "execution_count": null,
   "id": "d10fcd1c-4625-4e05-bd7e-ffc8a321e8fa",
   "metadata": {},
   "outputs": [],
   "source": []
  },
  {
   "cell_type": "markdown",
   "id": "48a89085-6697-4730-9f57-3077e476a56d",
   "metadata": {},
   "source": [
    "#### [**permutation**](https://numpy.org/doc/stable/reference/random/generated/numpy.random.Generator.permutation.html#numpy.random.Generator.permutation) (x, axis=0) "
   ]
  },
  {
   "cell_type": "markdown",
   "id": "251f49e6-6ef4-4b71-bd04-3def06fe4fad",
   "metadata": {},
   "source": [
    "##### EXAMPLES:\n",
    "***"
   ]
  },
  {
   "cell_type": "code",
   "execution_count": 57,
   "id": "2077d855-2a9c-4fc1-9c58-5c2b8cc4e26d",
   "metadata": {},
   "outputs": [
    {
     "data": {
      "text/plain": [
       "array([9, 8, 1, 4, 3, 5, 0, 2, 6, 7])"
      ]
     },
     "execution_count": 57,
     "metadata": {},
     "output_type": "execute_result"
    }
   ],
   "source": [
    "rng.permutation(10)"
   ]
  },
  {
   "cell_type": "markdown",
   "id": "0b908cfd-d16e-4a7a-a840-5aea954aed9e",
   "metadata": {},
   "source": [
    "***"
   ]
  },
  {
   "cell_type": "code",
   "execution_count": 58,
   "id": "aaa48366-ad9e-4d7e-9941-9ecaac06abd1",
   "metadata": {},
   "outputs": [
    {
     "data": {
      "text/plain": [
       "array([ 1,  9, 12,  4, 15])"
      ]
     },
     "execution_count": 58,
     "metadata": {},
     "output_type": "execute_result"
    }
   ],
   "source": [
    "rng.permutation([1, 4, 9, 12, 15])"
   ]
  },
  {
   "cell_type": "markdown",
   "id": "35bdb719-164f-4225-9bbe-87c50320d751",
   "metadata": {},
   "source": [
    "***"
   ]
  },
  {
   "cell_type": "code",
   "execution_count": 68,
   "id": "f616303b-99a8-47db-a638-a9a71d1d3288",
   "metadata": {},
   "outputs": [
    {
     "data": {
      "text/plain": [
       "array([[0, 1, 2],\n",
       "       [6, 7, 8],\n",
       "       [3, 4, 5]])"
      ]
     },
     "execution_count": 68,
     "metadata": {},
     "output_type": "execute_result"
    }
   ],
   "source": [
    "arr = np.arange(9).reshape((3, 3))\n",
    "rng.permutation(arr)"
   ]
  },
  {
   "cell_type": "markdown",
   "id": "d34c8d49-219b-4176-b96b-bc8de6167ddb",
   "metadata": {},
   "source": [
    "***"
   ]
  },
  {
   "cell_type": "code",
   "execution_count": null,
   "id": "e97c9c02-d2f5-46f9-8c19-b2d1d4a03760",
   "metadata": {},
   "outputs": [],
   "source": []
  },
  {
   "cell_type": "markdown",
   "id": "2048b39d-ca57-495f-a6f3-80ff2a3cc2b6",
   "metadata": {},
   "source": [
    "#### [**permuted**](https://numpy.org/doc/stable/reference/random/generated/numpy.random.Generator.permuted.html#numpy.random.Generator.permuted) (x, axis=None, out=None)"
   ]
  },
  {
   "cell_type": "markdown",
   "id": "746ecb10-931a-400b-a283-460ba9c4678b",
   "metadata": {},
   "source": [
    "##### EXAMPLES:\n",
    "***"
   ]
  },
  {
   "cell_type": "code",
   "execution_count": 69,
   "id": "1bbff4d2-820a-4d13-8195-22f9d3d5fbc0",
   "metadata": {},
   "outputs": [
    {
     "data": {
      "text/plain": [
       "array([[ 0,  1,  2,  3,  4,  5,  6,  7],\n",
       "       [ 8,  9, 10, 11, 12, 13, 14, 15],\n",
       "       [16, 17, 18, 19, 20, 21, 22, 23]])"
      ]
     },
     "execution_count": 69,
     "metadata": {},
     "output_type": "execute_result"
    }
   ],
   "source": [
    "x = np.arange(24).reshape(3, 8)\n",
    "x"
   ]
  },
  {
   "cell_type": "markdown",
   "id": "86dff15f-ebbb-45a7-bb36-9282ecf94a5b",
   "metadata": {},
   "source": [
    "***"
   ]
  },
  {
   "cell_type": "code",
   "execution_count": 70,
   "id": "43bf7d8a-3164-4f3e-8df2-3b3cbbb400e6",
   "metadata": {},
   "outputs": [
    {
     "data": {
      "text/plain": [
       "array([[ 4,  1,  5,  6,  3,  2,  7,  0],\n",
       "       [12, 11, 14,  8, 15, 10, 13,  9],\n",
       "       [21, 16, 23, 17, 19, 20, 18, 22]])"
      ]
     },
     "execution_count": 70,
     "metadata": {},
     "output_type": "execute_result"
    }
   ],
   "source": [
    "y = rng.permuted(x, axis=1)\n",
    "y"
   ]
  },
  {
   "cell_type": "markdown",
   "id": "ff95beb9-62b5-47ff-8a79-819a10e1a966",
   "metadata": {},
   "source": [
    "***"
   ]
  },
  {
   "cell_type": "code",
   "execution_count": null,
   "id": "ebb367ce-f6ff-46b1-963b-e5d4a53f218a",
   "metadata": {},
   "outputs": [],
   "source": []
  },
  {
   "cell_type": "markdown",
   "id": "40072e1e-d2fc-4935-b2ec-02edd3346426",
   "metadata": {},
   "source": [
    "### DISTRIBUTIONS"
   ]
  },
  {
   "cell_type": "markdown",
   "id": "68cf1977-24a8-4793-bf20-ab7d029a9336",
   "metadata": {},
   "source": [
    "#### Distribution 1 "
   ]
  },
  {
   "cell_type": "markdown",
   "id": "ba9990d1-48a8-4c3c-b0cd-f8033491565b",
   "metadata": {},
   "source": [
    "#### Distribution 2"
   ]
  },
  {
   "cell_type": "markdown",
   "id": "3f753175-aef1-4fec-9471-a4c4669d9400",
   "metadata": {},
   "source": [
    "#### Distribution 3"
   ]
  },
  {
   "cell_type": "markdown",
   "id": "eef08e83-39e3-42c0-b5ce-2f2c423b286a",
   "metadata": {},
   "source": [
    "#### Distribution 4"
   ]
  },
  {
   "cell_type": "markdown",
   "id": "479f91a6-12b5-430b-b869-9d4bfd266095",
   "metadata": {},
   "source": [
    "#### Distribution 5"
   ]
  },
  {
   "cell_type": "markdown",
   "id": "d2b61b08-040e-4028-9ec5-86b81c3839b4",
   "metadata": {},
   "source": [
    "### SEEDS"
   ]
  },
  {
   "cell_type": "markdown",
   "id": "ac2df7a6-b246-466c-90a1-1601aee69539",
   "metadata": {},
   "source": [
    "## CONCLUSION\n",
    "***"
   ]
  },
  {
   "cell_type": "markdown",
   "id": "1cde162b-8cf2-4e00-a8db-361083332a03",
   "metadata": {},
   "source": [
    "## REFERENCES\n",
    "\n",
    "- [1] https://towardsdatascience.com/getting-started-with-numpy-59b22df56729\n",
    "- [2] https://python.plainenglish.io/what-are-basics-of-numpy-2afa9a9455cb\n",
    "- [3] https://www.w3schools.com/python/numpy/numpy_intro.asp\n",
    "- [4] https://www.javatpoint.com/numpy-random\n",
    "- [5] https://pythonguides.com/python-numpy-random/\n",
    "- [6] https://www.w3schools.com/python/numpy/numpy_random.asp\n",
    "- [7] https://corporatefinanceinstitute.com/resources/knowledge/other/uniform-distribution/"
   ]
  },
  {
   "cell_type": "markdown",
   "id": "af22aa3e-8690-41e9-ac5c-338967ac757e",
   "metadata": {},
   "source": [
    "## Links to check\n"
   ]
  },
  {
   "cell_type": "markdown",
   "id": "c0c38716-1e5c-4cf1-8528-cf4813b542af",
   "metadata": {},
   "source": [
    "- https://numpy.org/doc/stable/reference/random/index.html\n",
    "- https://www.w3schools.com/python/numpy/numpy_random.asp\n",
    "- https://www.geeksforgeeks.org/random-sampling-in-numpy-random-function/\n",
    "- https://www.javatpoint.com/numpy-random\n",
    "- https://pythonguides.com/python-numpy-random/\n",
    "- https://docs.scipy.org/doc/numpy-1.17.0/reference/random/generator.html\n",
    "- https://en.wikipedia.org/wiki/Discrete_uniform_distribution\n",
    "- https://en.wikipedia.org/wiki/Continuous_uniform_distribution\n",
    "- https://stackoverflow.com/questions/28080066/how-to-reference-a-ipython-notebook-cell-in-markdown"
   ]
  },
  {
   "cell_type": "markdown",
   "id": "e369ca8e-4743-4f8e-8242-a1962a705c28",
   "metadata": {},
   "source": []
  },
  {
   "cell_type": "code",
   "execution_count": null,
   "id": "7bc40a84-7df0-4938-bfa8-d64107dacd44",
   "metadata": {},
   "outputs": [],
   "source": []
  }
 ],
 "metadata": {
  "kernelspec": {
   "display_name": "Python 3",
   "language": "python",
   "name": "python3"
  },
  "language_info": {
   "codemirror_mode": {
    "name": "ipython",
    "version": 3
   },
   "file_extension": ".py",
   "mimetype": "text/x-python",
   "name": "python",
   "nbconvert_exporter": "python",
   "pygments_lexer": "ipython3",
   "version": "3.8.8"
  }
 },
 "nbformat": 4,
 "nbformat_minor": 5
}
