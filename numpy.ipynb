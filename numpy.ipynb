{
 "cells": [
  {
   "cell_type": "markdown",
   "id": "543afed0-88f5-4cc9-8075-70d8bab410d4",
   "metadata": {},
   "source": [
    "# AN OVERVIEW OF THE NUMPY.RANDOM PACKAGE IN PYTHON\n",
    "\n",
    "***"
   ]
  },
  {
   "cell_type": "markdown",
   "id": "a7f93ed3-5871-43e4-90ba-87ecfaa45e8b",
   "metadata": {},
   "source": [
    "## INTRODUCTION"
   ]
  },
  {
   "cell_type": "code",
   "execution_count": null,
   "id": "125aee7e-c971-44be-affc-c7cdd7188b7f",
   "metadata": {},
   "outputs": [],
   "source": []
  },
  {
   "cell_type": "code",
   "execution_count": null,
   "id": "7c198087-c8b6-44e5-a923-7c4aa30efe1e",
   "metadata": {},
   "outputs": [],
   "source": []
  },
  {
   "cell_type": "code",
   "execution_count": null,
   "id": "98b519b2-8d5b-4578-814b-a6051f27ba5c",
   "metadata": {},
   "outputs": [],
   "source": []
  },
  {
   "cell_type": "markdown",
   "id": "ac2df7a6-b246-466c-90a1-1601aee69539",
   "metadata": {},
   "source": [
    "## CONCLUSION\n",
    "***"
   ]
  },
  {
   "cell_type": "markdown",
   "id": "1cde162b-8cf2-4e00-a8db-361083332a03",
   "metadata": {},
   "source": [
    "## REFERENCES"
   ]
  },
  {
   "cell_type": "markdown",
   "id": "af22aa3e-8690-41e9-ac5c-338967ac757e",
   "metadata": {},
   "source": [
    "## Links to check"
   ]
  },
  {
   "cell_type": "code",
   "execution_count": null,
   "id": "49ce4085-fe01-47fa-851a-b6285486503c",
   "metadata": {},
   "outputs": [],
   "source": []
  }
 ],
 "metadata": {
  "kernelspec": {
   "display_name": "Python 3",
   "language": "python",
   "name": "python3"
  },
  "language_info": {
   "codemirror_mode": {
    "name": "ipython",
    "version": 3
   },
   "file_extension": ".py",
   "mimetype": "text/x-python",
   "name": "python",
   "nbconvert_exporter": "python",
   "pygments_lexer": "ipython3",
   "version": "3.8.8"
  }
 },
 "nbformat": 4,
 "nbformat_minor": 5
}
